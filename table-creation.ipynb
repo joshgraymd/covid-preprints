{
 "cells": [
  {
   "cell_type": "code",
   "execution_count": 49,
   "metadata": {
    "tags": []
   },
   "outputs": [],
   "source": [
    "# Refresh COVID collection if needed\n",
    "\n",
    "import pickle\n",
    "import json\n",
    "import requests\n",
    "from datetime import datetime\n",
    "from time import sleep\n",
    "from tqdm import tqdm\n",
    "MAX_RETRIES = 5\n",
    "\n",
    "# Use the bioRxiv API to obtain DOIs of papers pertaining to the COVID-19 pandemic\n",
    "\n",
    "\n",
    "covid_collection_base = 'https://api.biorxiv.org/covid19/%d'\n",
    "\n",
    "if not 'covid_preprints' in locals():\n",
    "    covid_preprints = []\n",
    "    while True:\n",
    "        try:\n",
    "            lengthInfo = json.loads(requests.get(\n",
    "                covid_collection_base % 0).text)\n",
    "            totalDocs = lengthInfo['messages'][0]['total']\n",
    "            stepInterval = lengthInfo['messages'][0]['count']\n",
    "            break\n",
    "        except:\n",
    "            pass\n",
    "    for i in tqdm(range(0, totalDocs, stepInterval)):\n",
    "        retries = 0\n",
    "        while retries < MAX_RETRIES:\n",
    "            try:\n",
    "                response = json.loads(requests.get(\n",
    "                    covid_collection_base % i).text)\n",
    "                covid_preprints = covid_preprints + \\\n",
    "                    [{'server': datum['rel_site'], 'DOI': datum['rel_doi']}\n",
    "                        for datum in response['collection']]\n",
    "                break\n",
    "            except:\n",
    "                retries += 1\n",
    "    print('\\n%s COVID-19 SARS-CoV-2 DOIs found' % len(covid_preprints))\n",
    "    pickle.dump(covid_preprints, open(datetime.strftime(\n",
    "        datetime.today(), \"%Y-%m-%d\") + \"_covid_preprints.p\", 'wb'))\n"
   ]
  },
  {
   "cell_type": "code",
   "execution_count": 50,
   "metadata": {},
   "outputs": [],
   "source": [
    "with open('data/2021-01-10_finalData.json') as f:\n",
    "    dataWithPublished = json.load(f)\n"
   ]
  },
  {
   "cell_type": "markdown",
   "metadata": {},
   "source": [
    "# Flat file creation"
   ]
  },
  {
   "cell_type": "markdown",
   "metadata": {},
   "source": [
    "## Step 1 : Read in data and convert columns to correct formats"
   ]
  },
  {
   "cell_type": "code",
   "execution_count": 51,
   "metadata": {
    "tags": []
   },
   "outputs": [],
   "source": [
    "import pandas as pd\n",
    "import numpy as np\n",
    "import re\n",
    "from datetime import datetime\n",
    "\n",
    "\n",
    "def lowerAndRemoveReturns(string):\n",
    "    if pd.isna(string):\n",
    "        return\n",
    "    return re.sub(r'\\r|\\n', ' ', string.lower())\n",
    "\n",
    "\n",
    "dateColumns = [\n",
    "    'date',\n",
    "    'pub_date',\n",
    "    'crossref_pub_date',\n",
    "    'pub_date_received',\n",
    "    'pub_date_accepted',\n",
    "    'pub_date_entrez',\n",
    "    'pub_date_pubmed',\n",
    "    'pub_date_medline',\n",
    "    'pub_date_revised',\n",
    "    'pub_date_pmc-release'\n",
    "]\n",
    "\n",
    "integerColumns = [\n",
    "    'version',\n",
    "    'pmid',\n",
    "    'pp_num_authors',\n",
    "    'pub_num_authors',\n",
    "    'pp_num_citations',\n",
    "    'pub_num_citations'\n",
    "]\n",
    "\n",
    "stringColumns = [\n",
    "    'published',\n",
    "    'pub_date_type',\n",
    "    'abstract',\n",
    "    'scraped_abstract',\n",
    "    'title',\n",
    "    'pub_abstract',\n",
    "    'pub_title',\n",
    "    'pub_journal_name',\n",
    "    'category',\n",
    "    'server',\n",
    "    'authors',\n",
    "    'author_corresponding',\n",
    "    'author_corresponding_institution'\n",
    "]\n",
    "\n",
    "columnsToDrop = [\n",
    "    'altmetricData',\n",
    "    'engagement'\n",
    "]\n",
    "\n",
    "df = pd.DataFrame.from_records(dataWithPublished)\n",
    "\n",
    "df[dateColumns + stringColumns] = df[dateColumns +\n",
    "                                     stringColumns].replace({np.nan: None})\n",
    "\n",
    "df[stringColumns + ['doi']] = df[stringColumns + ['doi']].astype(\"string\")\n",
    "df[integerColumns] = df[integerColumns].astype(float).astype('Int64')\n",
    "df[dateColumns] = df[dateColumns].apply(lambda x: pd.to_datetime(x).dt.date)\n",
    "df['scraped_abstract'] = df['scraped_abstract'].str.replace(\n",
    "    re.compile(r\"^[Aa][Bb][Ss][Tt][Rr][Aa][Cc][Tt]\"), \"\")\n",
    "df['scraped_abstract'] = df['scraped_abstract'].str.replace(\n",
    "    re.compile(r\"^[Ss][Uu][Mm][Mm][Aa][Rr][Yy]\"), \"\")\n",
    "df[stringColumns] = df[stringColumns].applymap(lowerAndRemoveReturns)\n",
    "\n",
    "\n",
    "# Extract out engagement metrics\n",
    "df['Abstract Views'] = df.engagement.apply(lambda x: x['Abstract'] if (\n",
    "    not pd.isna(x) and 'Abstract' in x.keys()) else None)\n",
    "df['PDF Downloads'] = df.engagement.apply(\n",
    "    lambda x: x['Pdf'] if (not pd.isna(x) and 'Pdf' in x.keys()) else None)\n",
    "\n",
    "# Extract article types\n",
    "df['trial_yn'] = df.pm_pub_types.apply(lambda x: True if isinstance(x, list) and len(\n",
    "    [i for i in x if \"Trial\" in i and \"Protocol\" not in i]) > 0 else False)\n",
    "df['review_yn'] = df.pm_pub_types.apply(lambda x: True if isinstance(x, list) and len(\n",
    "    [i for i in x if \"Review\" in i and \"Systematic Review\" not in i]) > 0 else False)\n",
    "\n",
    "# Remove errors\n",
    "errors = pd.read_csv(\"known-errors.csv\")\n",
    "pp_errors = errors[errors.type == 'preprint']['doi'].unique()\n",
    "df = df[~df.doi.isin(pp_errors)]\n",
    "\n",
    "df.drop(columnsToDrop, inplace=True, axis=1)\n"
   ]
  },
  {
   "cell_type": "markdown",
   "metadata": {},
   "source": [
    "## Step 2: Filter out data irrelevant to primary analysis"
   ]
  },
  {
   "cell_type": "code",
   "execution_count": 52,
   "metadata": {
    "tags": []
   },
   "outputs": [],
   "source": [
    "# Only keep version 1s\n",
    "df = df[df.version == 1]\n",
    "\n",
    "# Only keep preprints published ahead of their peer-reviewed publication\n",
    "df = df[df.date < df.crossref_pub_date]\n",
    "\n",
    "# KEEPING THIS UNTIL WE DETERMINE WHY THERE ARE MULTIPLE version 1s FOR SOME PREPRINTS (e.g. 10.1101/703660)\n",
    "df.drop_duplicates(subset=['doi'], inplace=True, ignore_index=True)\n"
   ]
  },
  {
   "cell_type": "markdown",
   "metadata": {},
   "source": [
    "## Step 3: Assign rows to study cohorts"
   ]
  },
  {
   "cell_type": "code",
   "execution_count": 53,
   "metadata": {},
   "outputs": [],
   "source": [
    "from datetime import date\n",
    "\n",
    "# January 19th, 2020 is the date that the first SARS-CoV-2 preprint was deposited on either bioRxiv or medRxiv\n",
    "first_preprint_SARS_CoV_2_article = date(2020, 1, 19)\n",
    "\n",
    "# This date defines the historical extent of the lookback period for the 'preceding control period' articles from before the pandemic\n",
    "left_date_study_period = first_preprint_SARS_CoV_2_article - \\\n",
    "    (date(2020, 12, 21) - first_preprint_SARS_CoV_2_article)\n",
    "\n",
    "covid_preprint_dois = [x['DOI'] for x in covid_preprints]\n",
    "\n",
    "\n",
    "def cohort_criteria(row):\n",
    "    if row['date'] < left_date_study_period:\n",
    "        return None  # Don't include if before the prior control period\n",
    "    if pd.isna(row['crossref_pub_date']):\n",
    "        return None  # Don't include if PubMed did not have data on the published DOI\n",
    "    if row['date'] < first_preprint_SARS_CoV_2_article and row['crossref_pub_date'] < first_preprint_SARS_CoV_2_article:\n",
    "        # Articles with both v1 of preprint AND published article appearing within the control period\n",
    "        return 'preceding control period'\n",
    "    if row['doi'] in covid_preprint_dois:\n",
    "        # Articles with both v1 of preprint AND published article appearing within the pandemic period\n",
    "        return 'intra-pandemic SARS-CoV-2'\n",
    "    if row['doi'] not in covid_preprint_dois and row['date'] > first_preprint_SARS_CoV_2_article:\n",
    "        # Articles with both v1 of preprint AND published article appearing within the pandemic period\n",
    "        return 'intra-pandemic non-SARS-CoV-2'\n",
    "    return None\n",
    "\n",
    "\n",
    "df['cohort'] = df.apply(cohort_criteria, axis=1)\n"
   ]
  },
  {
   "cell_type": "code",
   "execution_count": 54,
   "metadata": {},
   "outputs": [
    {
     "data": {
      "text/plain": "7547"
     },
     "execution_count": 54,
     "metadata": {},
     "output_type": "execute_result"
    }
   ],
   "source": [
    "# Count how many have a defined journal name\n",
    "\n",
    "len(df[\n",
    "    ~pd.isna(df['pub_journal_name']) &\n",
    "    ~pd.isna(df['cohort'])\n",
    "])\n"
   ]
  },
  {
   "cell_type": "markdown",
   "metadata": {},
   "source": [
    "## Step 4: Only include in analysis those journals that publish both COVID-19 and non-COVID-19 articles"
   ]
  },
  {
   "cell_type": "code",
   "execution_count": 55,
   "metadata": {},
   "outputs": [
    {
     "data": {
      "text/plain": "7547"
     },
     "execution_count": 55,
     "metadata": {},
     "output_type": "execute_result"
    }
   ],
   "source": [
    "journals_of_interest = list(set(\n",
    "    df[df.cohort == 'intra-pandemic SARS-CoV-2']['pub_journal_name'].tolist()\n",
    ") & set(\n",
    "    df[df.cohort == 'intra-pandemic non-SARS-CoV-2']['pub_journal_name'].tolist()\n",
    ") & set(\n",
    "    df[df.cohort == 'preceding control period']['pub_journal_name'].tolist()\n",
    "))\n",
    "\n",
    "df = df[df.pub_journal_name.isin(journals_of_interest)]\n",
    "\n",
    "\n",
    "len(df[~pd.isna(df.cohort)])\n"
   ]
  },
  {
   "cell_type": "markdown",
   "metadata": {},
   "source": [
    "## Step 5: Only include in analysis those rows for which titles, abstracts, and cohort data are all non-null"
   ]
  },
  {
   "cell_type": "code",
   "execution_count": 56,
   "metadata": {},
   "outputs": [
    {
     "name": "stderr",
     "output_type": "stream",
     "text": [
      "/Users/joshg/opt/anaconda3/lib/python3.7/site-packages/pandas/core/missing.py:49: FutureWarning: elementwise comparison failed; returning scalar instead, but in the future will perform elementwise comparison\n",
      "  mask = arr == x\n",
      "/Users/joshg/opt/anaconda3/lib/python3.7/site-packages/pandas/core/missing.py:49: FutureWarning: elementwise comparison failed; returning scalar instead, but in the future will perform elementwise comparison\n",
      "  mask = arr == x\n"
     ]
    }
   ],
   "source": [
    "df.replace(\"\", np.NaN, inplace=True)\n",
    "\n",
    "# Only include in analysis those rows for which ...\n",
    "columnsThatNeedToBeCompletelyDefined = [\n",
    "    'scraped_abstract',  # ... preprint abstract is defined AND ...\n",
    "    'pub_abstract', # ... abstract found on PubMed for the published version AND ...\n",
    "    'pub_journal_name',\n",
    "    'cohort'  # ... row belongs to one of the three study cohorts ...\n",
    "]\n",
    "\n",
    "df = df[~df[columnsThatNeedToBeCompletelyDefined].isna().any(1)]\n"
   ]
  },
  {
   "cell_type": "code",
   "execution_count": 57,
   "metadata": {},
   "outputs": [
    {
     "name": "stdout",
     "output_type": "stream",
     "text": [
      "7546 published pairs\n"
     ]
    }
   ],
   "source": [
    "# Size of total\n",
    "\n",
    "print(\"%s published pairs\" % len(df))\n",
    "\n",
    "preprint_altmetric_search_list = '\\n'.join(x.doi for x in df.iloc)\n",
    "published_altmetric_search_list = '\\n'.join(x.published for x in df.iloc)\n",
    "\n",
    "todays_date = datetime.strftime(datetime.today(), \"%Y-%m-%d\")\n",
    "\n",
    "with open(todays_date + '_preprints-altmetric-search.txt', 'w') as f:\n",
    "    f.write(preprint_altmetric_search_list)\n",
    "with open(todays_date + '_published-altmetric-search.txt', 'w') as f:\n",
    "    f.write(published_altmetric_search_list)\n"
   ]
  },
  {
   "cell_type": "markdown",
   "metadata": {},
   "source": [
    "## Step 6: Remove stop words, punctuation, and lemmatize abstract text"
   ]
  },
  {
   "cell_type": "code",
   "execution_count": 58,
   "metadata": {},
   "outputs": [],
   "source": [
    "import spacy\n",
    "#import sys\n",
    "#!{sys.executable} -m spacy download en\n",
    "import nltk\n",
    "from nltk import word_tokenize\n",
    "from unidecode import unidecode\n",
    "import string\n",
    "\n",
    "\n",
    "def spacyLemmatize(abstract, model):\n",
    "    doc = model(abstract)\n",
    "    return \" \".join([token.lemma_ for token in doc])\n",
    "\n",
    "\n",
    "def removeStopWordsPunctuation(abstract, stopset):\n",
    "    abstract = abstract.translate(str.maketrans('', '', string.punctuation))\n",
    "    abstract = \" \".join(\n",
    "        [i for i in word_tokenize(abstract) if i not in stopset])\n",
    "    abstract = unidecode(abstract)\n",
    "    return abstract\n",
    "\n",
    "\n",
    "nlp = spacy.load('en', disable=['parser', 'ner'])\n",
    "stopset = nlp.Defaults.stop_words.union(list(string.punctuation))\n",
    "\n",
    "columnsToRemoveStopWords = [\n",
    "    'scraped_abstract',\n",
    "    'pub_abstract'\n",
    "]\n",
    "\n",
    "outputColumns = [\n",
    "    'scraped_abstract_lemmatized',\n",
    "    'pub_abstract_lemmatized'\n",
    "]\n",
    "\n",
    "df[outputColumns] = df[columnsToRemoveStopWords].applymap(\n",
    "    lambda x: removeStopWordsPunctuation(x, stopset))\n",
    "df[outputColumns] = df[outputColumns].applymap(\n",
    "    lambda x: spacyLemmatize(x, nlp))\n"
   ]
  },
  {
   "cell_type": "markdown",
   "metadata": {},
   "source": [
    "## Step 7: Construct term frequency vectors between terms found in both documents of a pair; compute the cosine similarity of resulting vectors"
   ]
  },
  {
   "cell_type": "code",
   "execution_count": 59,
   "metadata": {
    "tags": []
   },
   "outputs": [],
   "source": [
    "from sklearn.metrics.pairwise import cosine_distances\n",
    "from sklearn.feature_extraction.text import CountVectorizer\n",
    "\n",
    "\n",
    "def get_cosine_diff(*strs):\n",
    "    vectors = [t for t in get_vectors(*strs)]\n",
    "    return cosine_distances(vectors)\n",
    "\n",
    "\n",
    "def get_vectors(*strs):\n",
    "    text = [t for t in strs]\n",
    "    vectorizer = CountVectorizer(text)\n",
    "    vectorizer.fit(text)\n",
    "    return vectorizer.transform(text).toarray()\n",
    "\n",
    "\n",
    "df['abstract_diff_cosine_tf'] = df.apply(lambda x: get_cosine_diff(\n",
    "    x['scraped_abstract_lemmatized'], x['pub_abstract_lemmatized'])[1][0], axis=1)\n"
   ]
  },
  {
   "cell_type": "code",
   "execution_count": 60,
   "metadata": {},
   "outputs": [],
   "source": [
    "# Save flat file as pipe-delimited\n",
    "import csv\n",
    "\n",
    "todays_date = datetime.strftime(datetime.today(), \"%Y-%m-%d\")\n",
    "df.to_csv(todays_date + '_flat-file_v1s.psv', sep='|', quoting=csv.QUOTE_NONE, quotechar=\"\", escapechar=\"\\\\\", index=False)\n"
   ]
  },
  {
   "cell_type": "markdown",
   "metadata": {},
   "source": [
    "# Get results!"
   ]
  },
  {
   "cell_type": "code",
   "execution_count": 61,
   "metadata": {},
   "outputs": [],
   "source": [
    "# Load in data\n",
    "import pandas as pd\n",
    "import numpy as np\n",
    "import csv\n",
    "\n",
    "df = pd.read_csv('2021-01-12_flat-file_v1s.psv', sep = '|', quoting=csv.QUOTE_NONE, quotechar=\"\", escapechar=\"\\\\\")\n",
    "\n",
    "dateColumns = [\n",
    "    'date',\n",
    "    'pub_date',\n",
    "    'crossref_pub_date',\n",
    "    'pub_date_received',\n",
    "    'pub_date_accepted',\n",
    "    'pub_date_entrez',\n",
    "    'pub_date_pubmed',\n",
    "    'pub_date_medline',\n",
    "    'pub_date_revised',\n",
    "    'pub_date_pmc-release'\n",
    "]\n",
    "\n",
    "integerColumns = [\n",
    "    'version',\n",
    "    'pmid',\n",
    "    'pp_num_authors',\n",
    "    'pub_num_authors',\n",
    "    'pp_num_citations',\n",
    "    'pub_num_citations'\n",
    "]\n",
    "\n",
    "stringColumns = [\n",
    "    'published',\n",
    "    'pub_date_type',\n",
    "    'abstract',\n",
    "    'scraped_abstract',\n",
    "    'title',\n",
    "    'pub_abstract',\n",
    "    'pub_title',\n",
    "    'pub_journal_name',\n",
    "    'category',\n",
    "    'server',\n",
    "    'authors',\n",
    "    'author_corresponding',\n",
    "    'author_corresponding_institution'\n",
    "]\n",
    "\n",
    "df[dateColumns + stringColumns] = df[dateColumns +\n",
    "                                     stringColumns].replace({np.nan: None})\n",
    "\n",
    "df[stringColumns + ['doi']] = df[stringColumns + ['doi']].astype(\"string\")\n",
    "df[integerColumns] = df[integerColumns].astype(float).astype('Int64')\n",
    "df[dateColumns] = df[dateColumns].apply(lambda x: pd.to_datetime(x).dt.date)"
   ]
  },
  {
   "cell_type": "markdown",
   "metadata": {},
   "source": [
    "### Dimensions citation data"
   ]
  },
  {
   "cell_type": "code",
   "execution_count": 62,
   "metadata": {
    "tags": []
   },
   "outputs": [
    {
     "data": {
      "text/plain": "cohort                             \nintra-pandemic SARS-CoV-2      0.50    2.0\n                               0.25    0.0\n                               0.75    6.0\nintra-pandemic non-SARS-CoV-2  0.50    0.0\n                               0.25    0.0\n                               0.75    0.0\npreceding control period       0.50    0.0\n                               0.25    0.0\n                               0.75    0.0\nName: pp_num_citations, dtype: float64"
     },
     "metadata": {},
     "output_type": "display_data"
    },
    {
     "data": {
      "text/plain": "cohort                             \nintra-pandemic SARS-CoV-2      0.50     4.0\n                               0.25     1.0\n                               0.75    12.0\nintra-pandemic non-SARS-CoV-2  0.50     0.0\n                               0.25     0.0\n                               0.75     1.0\npreceding control period       0.50     0.0\n                               0.25     0.0\n                               0.75     1.0\nName: pub_num_citations, dtype: float64"
     },
     "metadata": {},
     "output_type": "display_data"
    }
   ],
   "source": [
    "from datetime import date, timedelta, datetime, time\n",
    "date_citation_data_was_collected = date(2020, 12, 29)\n",
    "ninetyDaysBeforeDataCollection = date_citation_data_was_collected + \\\n",
    "    timedelta(days=-91)  # Add one day to account for Dimensions citation updates\n",
    "\n",
    "pp_cit_90Day_df = df[df.date <= ninetyDaysBeforeDataCollection]\n",
    "pub_cit_90Day_df = df[df.crossref_pub_date <= ninetyDaysBeforeDataCollection]\n",
    "\n",
    "display(pp_cit_90Day_df[~pd.isna(pp_cit_90Day_df.pp_num_citations)].groupby(\n",
    "    'cohort')['pp_num_citations'].quantile([0.5, 0.25, 0.75]))\n",
    "\n",
    "display(pub_cit_90Day_df[~pd.isna(pub_cit_90Day_df.pub_num_citations)].groupby(\n",
    "    'cohort')['pub_num_citations'].quantile([0.5, 0.25, 0.75]))\n"
   ]
  },
  {
   "cell_type": "code",
   "execution_count": 63,
   "metadata": {
    "tags": []
   },
   "outputs": [
    {
     "name": "stdout",
     "output_type": "stream",
     "text": [
      "Number of pairs used for analysis: \n",
      "Preprint counts: \n",
      "cohort\n",
      "intra-pandemic SARS-CoV-2        1157\n",
      "intra-pandemic non-SARS-CoV-2    3571\n",
      "preceding control period         2765\n",
      "dtype: int64\n",
      "Preprint fraction: \n",
      "cohort\n",
      "intra-pandemic SARS-CoV-2        0.983008\n",
      "intra-pandemic non-SARS-CoV-2    0.991119\n",
      "preceding control period         0.999638\n",
      "dtype: float64\n",
      "Published counts: \n",
      "cohort\n",
      "intra-pandemic SARS-CoV-2         786\n",
      "intra-pandemic non-SARS-CoV-2    2230\n",
      "preceding control period         2766\n",
      "dtype: int64\n",
      "Published fraction: \n",
      "cohort\n",
      "intra-pandemic SARS-CoV-2        0.667799\n",
      "intra-pandemic non-SARS-CoV-2    0.618929\n",
      "preceding control period         1.000000\n",
      "dtype: float64\n"
     ]
    }
   ],
   "source": [
    "print(\"Number of pairs used for analysis: \")\n",
    "\n",
    "print(\"Preprint counts: \\n%s\" % pp_cit_90Day_df[~pd.isna(\n",
    "    pp_cit_90Day_df.pp_num_citations)].groupby('cohort').size())\n",
    "\n",
    "print(\"Preprint fraction: \\n%s\" % pp_cit_90Day_df[~pd.isna(pp_cit_90Day_df.pp_num_citations)].groupby('cohort').size().divide(\n",
    "    df.groupby('cohort').size()\n",
    "))\n",
    "\n",
    "print(\"Published counts: \\n%s\" % pub_cit_90Day_df[~pd.isna(\n",
    "    pub_cit_90Day_df.pub_num_citations)].groupby('cohort').size())\n",
    "\n",
    "print(\"Published fraction: \\n%s\" % pub_cit_90Day_df[~pd.isna(pub_cit_90Day_df.pub_num_citations)].groupby('cohort').size().divide(\n",
    "    df.groupby('cohort').size()\n",
    "))\n"
   ]
  },
  {
   "cell_type": "code",
   "execution_count": 64,
   "metadata": {
    "tags": []
   },
   "outputs": [
    {
     "name": "stdout",
     "output_type": "stream",
     "text": [
      "\n",
      "median_test on pub_num_citations:\n",
      "\n",
      "control vs. non-SARS (p): \t0.9395708362659542\n",
      "SARS vs. non-SARS (p): \t\t6.688647631411943e-176\n",
      "control vs. SARS (p): \t\t2.218719738149126e-186\n",
      "\n",
      "median_test on pp_num_citations:\n",
      "\n",
      "control vs. non-SARS (p): \t0.49064162859577287\n",
      "SARS vs. non-SARS (p): \t\t1.7955830680787623e-232\n",
      "control vs. SARS (p): \t\t1.5647868219885122e-216\n"
     ]
    }
   ],
   "source": [
    "from scipy.stats import chisquare, median_test\n",
    "\n",
    "func = median_test\n",
    "\n",
    "metric = 'pub_num_citations'\n",
    "\n",
    "control = pub_cit_90Day_df[~pd.isna(pub_cit_90Day_df[metric]) & (\n",
    "    pub_cit_90Day_df.cohort == 'preceding control period')][metric].tolist()\n",
    "non_SARS = pub_cit_90Day_df[~pd.isna(pub_cit_90Day_df[metric]) & (\n",
    "    pub_cit_90Day_df.cohort == 'intra-pandemic non-SARS-CoV-2')][metric].tolist()\n",
    "SARS = pub_cit_90Day_df[~pd.isna(pub_cit_90Day_df[metric]) & (\n",
    "    pub_cit_90Day_df.cohort == 'intra-pandemic SARS-CoV-2')][metric].tolist()\n",
    "\n",
    "print(\"\\n%s on %s:\\n\" % (func.__name__, metric))\n",
    "print(\"control vs. non-SARS (p): \\t%s\" % func(control, non_SARS)[1])\n",
    "print(\"SARS vs. non-SARS (p): \\t\\t%s\" % func(SARS, non_SARS)[1])\n",
    "print(\"control vs. SARS (p): \\t\\t%s\" % func(control, SARS)[1])\n",
    "\n",
    "metric = 'pp_num_citations'\n",
    "\n",
    "control = pp_cit_90Day_df[~pd.isna(pp_cit_90Day_df[metric]) & (\n",
    "    pp_cit_90Day_df.cohort == 'preceding control period')][metric].tolist()\n",
    "non_SARS = pp_cit_90Day_df[~pd.isna(pp_cit_90Day_df[metric]) & (\n",
    "    pp_cit_90Day_df.cohort == 'intra-pandemic non-SARS-CoV-2')][metric].tolist()\n",
    "SARS = pp_cit_90Day_df[~pd.isna(pp_cit_90Day_df[metric]) & (\n",
    "    pp_cit_90Day_df.cohort == 'intra-pandemic SARS-CoV-2')][metric].tolist()\n",
    "\n",
    "print(\"\\n%s on %s:\\n\" % (func.__name__, metric))\n",
    "print(\"control vs. non-SARS (p): \\t%s\" % func(control, non_SARS)[1])\n",
    "print(\"SARS vs. non-SARS (p): \\t\\t%s\" % func(SARS, non_SARS)[1])\n",
    "print(\"control vs. SARS (p): \\t\\t%s\" % func(control, SARS)[1])\n"
   ]
  },
  {
   "cell_type": "markdown",
   "metadata": {},
   "source": [
    "### Number per cohort"
   ]
  },
  {
   "cell_type": "code",
   "execution_count": 65,
   "metadata": {
    "tags": []
   },
   "outputs": [
    {
     "name": "stdout",
     "output_type": "stream",
     "text": [
      "# per cohort: \n"
     ]
    },
    {
     "data": {
      "text/plain": "cohort\nintra-pandemic SARS-CoV-2        1177\nintra-pandemic non-SARS-CoV-2    3603\npreceding control period         2766\ndtype: int64"
     },
     "execution_count": 65,
     "metadata": {},
     "output_type": "execute_result"
    }
   ],
   "source": [
    "print(\"# per cohort: \")\n",
    "df.groupby('cohort').size()\n"
   ]
  },
  {
   "cell_type": "code",
   "execution_count": 66,
   "metadata": {},
   "outputs": [
    {
     "data": {
      "text/plain": "Timestamp('2020-05-17 00:00:00')"
     },
     "execution_count": 66,
     "metadata": {},
     "output_type": "execute_result"
    }
   ],
   "source": [
    "# Median upload date of preprints in the COVID-19 cohort\n",
    "\n",
    "df[df.cohort == 'intra-pandemic SARS-CoV-2']['date'].astype('datetime64[ns]').quantile(.5)"
   ]
  },
  {
   "cell_type": "markdown",
   "metadata": {},
   "source": [
    "### Abstract difference by cohort"
   ]
  },
  {
   "cell_type": "code",
   "execution_count": 67,
   "metadata": {
    "tags": []
   },
   "outputs": [
    {
     "name": "stdout",
     "output_type": "stream",
     "text": [
      "Abstract difference by cohort:\n"
     ]
    },
    {
     "data": {
      "text/plain": "cohort                             \nintra-pandemic SARS-CoV-2      0.50    0.111507\n                               0.25    0.041770\n                               0.75    0.222490\nintra-pandemic non-SARS-CoV-2  0.50    0.045343\n                               0.25    0.013356\n                               0.75    0.111286\npreceding control period       0.50    0.045944\n                               0.25    0.011620\n                               0.75    0.106666\nName: abstract_diff_cosine_tf, dtype: float64"
     },
     "metadata": {},
     "output_type": "display_data"
    },
    {
     "data": {
      "text/plain": "cohort                             \nintra-pandemic SARS-CoV-2      0.50    2.427020\n                               0.25    0.909151\n                               0.75    4.842635\nintra-pandemic non-SARS-CoV-2  0.50    0.986925\n                               0.25    0.290698\n                               0.75    2.422214\npreceding control period       0.50    1.000000\n                               0.25    0.252918\n                               0.75    2.321653\nName: abstract_diff_cosine_tf, dtype: float64"
     },
     "metadata": {},
     "output_type": "display_data"
    }
   ],
   "source": [
    "print(\"Abstract difference by cohort:\")\n",
    "\n",
    "display(\n",
    "    df.groupby('cohort')['abstract_diff_cosine_tf'].quantile([0.5, 0.25, 0.75])\n",
    ")\n",
    "display(\n",
    "    df.groupby('cohort')['abstract_diff_cosine_tf'].quantile([0.5, 0.25, 0.75]).divide(\n",
    "        df[df.cohort == 'preceding control period']['abstract_diff_cosine_tf'].quantile([0.5]).item())\n",
    ")\n"
   ]
  },
  {
   "cell_type": "markdown",
   "metadata": {},
   "source": [
    "### Word counts"
   ]
  },
  {
   "cell_type": "code",
   "execution_count": 68,
   "metadata": {
    "tags": []
   },
   "outputs": [
    {
     "name": "stdout",
     "output_type": "stream",
     "text": [
      "Preprint and published abstract word count by cohort: \n"
     ]
    },
    {
     "data": {
      "text/html": "<div>\n<style scoped>\n    .dataframe tbody tr th:only-of-type {\n        vertical-align: middle;\n    }\n\n    .dataframe tbody tr th {\n        vertical-align: top;\n    }\n\n    .dataframe thead th {\n        text-align: right;\n    }\n</style>\n<table border=\"1\" class=\"dataframe\">\n  <thead>\n    <tr style=\"text-align: right;\">\n      <th></th>\n      <th></th>\n      <th>scraped_abstract_wc</th>\n      <th>pub_abstract_wc</th>\n      <th>scraped_abstract_lemmatized_wc</th>\n      <th>pub_abstract_lemmatized_wc</th>\n    </tr>\n    <tr>\n      <th>cohort</th>\n      <th></th>\n      <th></th>\n      <th></th>\n      <th></th>\n      <th></th>\n    </tr>\n  </thead>\n  <tbody>\n    <tr>\n      <th rowspan=\"3\" valign=\"top\">intra-pandemic SARS-CoV-2</th>\n      <th>0.50</th>\n      <td>210</td>\n      <td>203</td>\n      <td>129</td>\n      <td>124</td>\n    </tr>\n    <tr>\n      <th>0.25</th>\n      <td>157</td>\n      <td>151</td>\n      <td>97</td>\n      <td>96</td>\n    </tr>\n    <tr>\n      <th>0.75</th>\n      <td>264</td>\n      <td>254</td>\n      <td>168</td>\n      <td>162</td>\n    </tr>\n    <tr>\n      <th rowspan=\"3\" valign=\"top\">intra-pandemic non-SARS-CoV-2</th>\n      <th>0.50</th>\n      <td>203</td>\n      <td>198</td>\n      <td>129</td>\n      <td>121</td>\n    </tr>\n    <tr>\n      <th>0.25</th>\n      <td>156</td>\n      <td>151</td>\n      <td>101</td>\n      <td>97</td>\n    </tr>\n    <tr>\n      <th>0.75</th>\n      <td>262</td>\n      <td>247</td>\n      <td>165</td>\n      <td>153</td>\n    </tr>\n    <tr>\n      <th rowspan=\"3\" valign=\"top\">preceding control period</th>\n      <th>0.50</th>\n      <td>208</td>\n      <td>199</td>\n      <td>130</td>\n      <td>122</td>\n    </tr>\n    <tr>\n      <th>0.25</th>\n      <td>156</td>\n      <td>152</td>\n      <td>101</td>\n      <td>98</td>\n    </tr>\n    <tr>\n      <th>0.75</th>\n      <td>273</td>\n      <td>250</td>\n      <td>169</td>\n      <td>154</td>\n    </tr>\n  </tbody>\n</table>\n</div>",
      "text/plain": "                                    scraped_abstract_wc  pub_abstract_wc  \\\ncohort                                                                     \nintra-pandemic SARS-CoV-2     0.50                  210              203   \n                              0.25                  157              151   \n                              0.75                  264              254   \nintra-pandemic non-SARS-CoV-2 0.50                  203              198   \n                              0.25                  156              151   \n                              0.75                  262              247   \npreceding control period      0.50                  208              199   \n                              0.25                  156              152   \n                              0.75                  273              250   \n\n                                    scraped_abstract_lemmatized_wc  \\\ncohort                                                               \nintra-pandemic SARS-CoV-2     0.50                             129   \n                              0.25                              97   \n                              0.75                             168   \nintra-pandemic non-SARS-CoV-2 0.50                             129   \n                              0.25                             101   \n                              0.75                             165   \npreceding control period      0.50                             130   \n                              0.25                             101   \n                              0.75                             169   \n\n                                    pub_abstract_lemmatized_wc  \ncohort                                                          \nintra-pandemic SARS-CoV-2     0.50                         124  \n                              0.25                          96  \n                              0.75                         162  \nintra-pandemic non-SARS-CoV-2 0.50                         121  \n                              0.25                          97  \n                              0.75                         153  \npreceding control period      0.50                         122  \n                              0.25                          98  \n                              0.75                         154  "
     },
     "execution_count": 68,
     "metadata": {},
     "output_type": "execute_result"
    }
   ],
   "source": [
    "countWordColumns = [\n",
    "    'scraped_abstract',\n",
    "    'pub_abstract',\n",
    "    'scraped_abstract_lemmatized',\n",
    "    'pub_abstract_lemmatized'\n",
    "]\n",
    "\n",
    "print(\"Preprint and published abstract word count by cohort: \")\n",
    "\n",
    "df[[col + '_wc' for col in countWordColumns]] = df[countWordColumns].applymap(lambda x: len(x.split())).astype('Int64')\n",
    "df[['cohort', 'scraped_abstract_wc', 'pub_abstract_wc', 'scraped_abstract_lemmatized_wc', 'pub_abstract_lemmatized_wc']].groupby('cohort').quantile([0.5, 0.25, 0.75], interpolation='nearest')\n"
   ]
  },
  {
   "cell_type": "code",
   "execution_count": 69,
   "metadata": {},
   "outputs": [
    {
     "data": {
      "text/plain": "0.1079016621890152"
     },
     "execution_count": 69,
     "metadata": {},
     "output_type": "execute_result"
    }
   ],
   "source": [
    "from scipy.stats import median_test\n",
    "\n",
    "metric_1 = 'scraped_abstract_wc'\n",
    "metric_2 = 'pub_abstract_wc'\n",
    "cohort_of_interest = 'intra-pandemic SARS-CoV-2'\n",
    "\n",
    "pp = df[df.cohort == cohort_of_interest][metric_1].tolist()\n",
    "pub = df[df.cohort == cohort_of_interest][metric_2].tolist()\n",
    "\n",
    "median_test(pp, pub)[1]\n"
   ]
  },
  {
   "cell_type": "markdown",
   "metadata": {},
   "source": [
    "### Breakdown by preprint server (bioRxiv/medRxiv)"
   ]
  },
  {
   "cell_type": "code",
   "execution_count": 70,
   "metadata": {
    "tags": []
   },
   "outputs": [
    {
     "name": "stdout",
     "output_type": "stream",
     "text": [
      "Preprints breakdown by server (No.):\n"
     ]
    },
    {
     "data": {
      "text/plain": "cohort                         server \nintra-pandemic SARS-CoV-2      biorxiv     482\n                               medrxiv     695\nintra-pandemic non-SARS-CoV-2  biorxiv    3380\n                               medrxiv     223\npreceding control period       biorxiv    2724\n                               medrxiv      42\ndtype: int64"
     },
     "metadata": {},
     "output_type": "display_data"
    },
    {
     "name": "stdout",
     "output_type": "stream",
     "text": [
      "Preprints breakdown by server (%):\n"
     ]
    },
    {
     "data": {
      "text/plain": "cohort                         server \nintra-pandemic SARS-CoV-2      biorxiv    40.951572\n                               medrxiv    59.048428\nintra-pandemic non-SARS-CoV-2  biorxiv    93.810713\n                               medrxiv     6.189287\npreceding control period       biorxiv    98.481562\n                               medrxiv     1.518438\ndtype: float64"
     },
     "metadata": {},
     "output_type": "display_data"
    }
   ],
   "source": [
    "print(\"Preprints breakdown by server (No.):\")\n",
    "display(df.groupby(['cohort', 'server']).size())\n",
    "print(\"Preprints breakdown by server (%):\")\n",
    "display(df.groupby(['cohort', 'server']).size().groupby(\n",
    "    level=0).apply(lambda x: 100 * x / float(x.sum())))\n"
   ]
  },
  {
   "cell_type": "markdown",
   "metadata": {},
   "source": [
    "### Number of preprint versions by cohort"
   ]
  },
  {
   "cell_type": "code",
   "execution_count": 10,
   "metadata": {},
   "outputs": [
    {
     "ename": "NameError",
     "evalue": "name 'dataWithPublished' is not defined",
     "output_type": "error",
     "traceback": [
      "\u001b[0;31m---------------------------------------------------------------------------\u001b[0m",
      "\u001b[0;31mNameError\u001b[0m                                 Traceback (most recent call last)",
      "\u001b[0;32m<ipython-input-10-e1d6b606ea84>\u001b[0m in \u001b[0;36m<module>\u001b[0;34m\u001b[0m\n\u001b[1;32m      1\u001b[0m \u001b[0mversion_no\u001b[0m \u001b[0;34m=\u001b[0m \u001b[0mdf\u001b[0m\u001b[0;34m[\u001b[0m\u001b[0;34m[\u001b[0m\u001b[0;34m'doi'\u001b[0m\u001b[0;34m,\u001b[0m \u001b[0;34m'cohort'\u001b[0m\u001b[0;34m]\u001b[0m\u001b[0;34m]\u001b[0m\u001b[0;34m.\u001b[0m\u001b[0mcopy\u001b[0m\u001b[0;34m(\u001b[0m\u001b[0;34m)\u001b[0m\u001b[0;34m\u001b[0m\u001b[0;34m\u001b[0m\u001b[0m\n\u001b[1;32m      2\u001b[0m \u001b[0;34m\u001b[0m\u001b[0m\n\u001b[0;32m----> 3\u001b[0;31m \u001b[0mtotal_data\u001b[0m \u001b[0;34m=\u001b[0m \u001b[0mpd\u001b[0m\u001b[0;34m.\u001b[0m\u001b[0mDataFrame\u001b[0m\u001b[0;34m.\u001b[0m\u001b[0mfrom_records\u001b[0m\u001b[0;34m(\u001b[0m\u001b[0mdataWithPublished\u001b[0m\u001b[0;34m)\u001b[0m\u001b[0;34m\u001b[0m\u001b[0;34m\u001b[0m\u001b[0m\n\u001b[0m\u001b[1;32m      4\u001b[0m \u001b[0;34m\u001b[0m\u001b[0m\n\u001b[1;32m      5\u001b[0m total_data.drop_duplicates(\n",
      "\u001b[0;31mNameError\u001b[0m: name 'dataWithPublished' is not defined"
     ]
    }
   ],
   "source": [
    "version_no = df[['doi', 'cohort']].copy()\n",
    "\n",
    "total_data = pd.DataFrame.from_records(dataWithPublished)\n",
    "\n",
    "total_data.drop_duplicates(\n",
    "    subset=['doi', 'version'], inplace=True, ignore_index=True)\n",
    "\n",
    "version_info = version_no.merge(total_data, how=\"right\", on='doi')\n",
    "\n",
    "data = []\n",
    "\n",
    "for doi in version_no['doi'].unique():\n",
    "    data += [{\"DOI\": doi, \"cohort\": version_no.loc[version_no.doi == doi]['cohort'].iloc[0],\n",
    "              \"num_versions\": len(total_data.loc[total_data.doi == doi]['version'].tolist())}]\n"
   ]
  },
  {
   "cell_type": "code",
   "execution_count": 22,
   "metadata": {
    "tags": []
   },
   "outputs": [
    {
     "name": "stdout",
     "output_type": "stream",
     "text": [
      "# of preprint versions by cohort:\n",
      "# of preprint articles with multiple versions by cohort: \n",
      "% of preprint articles with multiple versions by cohort: \n"
     ]
    },
    {
     "data": {
      "text/plain": "cohort                             \nintra-pandemic SARS-CoV-2      0.25    1\n                               0.50    1\n                               0.75    2\nintra-pandemic non-SARS-CoV-2  0.25    1\n                               0.50    1\n                               0.75    1\npreceding control period       0.25    1\n                               0.50    1\n                               0.75    1\nName: num_versions, dtype: int64"
     },
     "metadata": {
      "transient": {}
     },
     "output_type": "display_data"
    },
    {
     "data": {
      "text/plain": "cohort\nintra-pandemic SARS-CoV-2        389\nintra-pandemic non-SARS-CoV-2    682\npreceding control period         435\ndtype: int64"
     },
     "metadata": {
      "transient": {}
     },
     "output_type": "display_data"
    },
    {
     "data": {
      "text/plain": "cohort\nintra-pandemic SARS-CoV-2        0.329661\nintra-pandemic non-SARS-CoV-2    0.189129\npreceding control period         0.157267\ndtype: float64"
     },
     "metadata": {
      "transient": {}
     },
     "output_type": "display_data"
    }
   ],
   "source": [
    "print(\"# of preprint versions by cohort:\")\n",
    "\n",
    "a = pd.DataFrame.from_records(data)\n",
    "display(a.groupby('cohort')['num_versions'].quantile(\n",
    "    [0.25, 0.5, 0.75], interpolation='nearest'))\n",
    "print(\"# of preprint articles with multiple versions by cohort: \")\n",
    "display(a[a.num_versions > 1].groupby('cohort').size())\n",
    "print(\"% of preprint articles with multiple versions by cohort: \")\n",
    "display(a[a.num_versions > 1].groupby('cohort').size().divide(\n",
    "    df.groupby('cohort').size()\n",
    "))\n"
   ]
  },
  {
   "cell_type": "markdown",
   "metadata": {},
   "source": [
    "### Days from version 1 preprint upload to publication"
   ]
  },
  {
   "cell_type": "code",
   "execution_count": 71,
   "metadata": {
    "tags": []
   },
   "outputs": [
    {
     "name": "stdout",
     "output_type": "stream",
     "text": [
      "Days to publication by cohort:\n",
      "\n"
     ]
    },
    {
     "data": {
      "text/plain": "cohort                             \nintra-pandemic SARS-CoV-2      0.50     79\n                               0.25     49\n                               0.75    122\nintra-pandemic non-SARS-CoV-2  0.50    125\n                               0.25     83\n                               0.75    177\npreceding control period       0.50    124\n                               0.25     81\n                               0.75    171\nName: days_to_publication, dtype: int64"
     },
     "execution_count": 71,
     "metadata": {},
     "output_type": "execute_result"
    }
   ],
   "source": [
    "df['days_to_publication'] = df.apply(lambda x: (\n",
    "    x['crossref_pub_date'] - x['date']).days, axis=1)\n",
    "print(\"Days to publication by cohort:\\n\")\n",
    "df.groupby('cohort')['days_to_publication'].quantile(\n",
    "    [0.5, 0.25, 0.75], interpolation='nearest')\n"
   ]
  },
  {
   "cell_type": "markdown",
   "metadata": {},
   "source": [
    "### Author changes"
   ]
  },
  {
   "cell_type": "code",
   "execution_count": 72,
   "metadata": {},
   "outputs": [
    {
     "data": {
      "text/plain": "cohort\nintra-pandemic SARS-CoV-2        324\nintra-pandemic non-SARS-CoV-2    445\npreceding control period         339\ndtype: int64"
     },
     "metadata": {},
     "output_type": "display_data"
    },
    {
     "data": {
      "text/plain": "cohort\nintra-pandemic SARS-CoV-2         853\nintra-pandemic non-SARS-CoV-2    3158\npreceding control period         2427\ndtype: int64"
     },
     "metadata": {},
     "output_type": "display_data"
    },
    {
     "data": {
      "text/plain": "cohort\nintra-pandemic SARS-CoV-2        0.275276\nintra-pandemic non-SARS-CoV-2    0.123508\npreceding control period         0.122560\ndtype: float64"
     },
     "metadata": {},
     "output_type": "display_data"
    },
    {
     "data": {
      "text/plain": "cohort\nintra-pandemic SARS-CoV-2        0.724724\nintra-pandemic non-SARS-CoV-2    0.876492\npreceding control period         0.877440\ndtype: float64"
     },
     "metadata": {},
     "output_type": "display_data"
    }
   ],
   "source": [
    "df['author_change'] = df['pub_num_authors'] - df['pp_num_authors']\n",
    "\n",
    "display(\n",
    "    df[df.author_change != 0].groupby('cohort').size()\n",
    ")\n",
    "\n",
    "display(\n",
    "    df[df.author_change == 0].groupby('cohort').size()\n",
    ")\n",
    "\n",
    "display(\n",
    "    df[df.author_change != 0].groupby('cohort').size().divide(\n",
    "        df.groupby('cohort').size()  # Divide by cohort N to get %\n",
    "    )\n",
    ")\n",
    "\n",
    "display(\n",
    "    df[df.author_change == 0].groupby('cohort').size().divide(\n",
    "        df.groupby('cohort').size()  # Divide by cohort N to get %\n",
    "    )\n",
    ")\n"
   ]
  },
  {
   "cell_type": "markdown",
   "metadata": {},
   "source": [
    "### Calculate statistics"
   ]
  },
  {
   "cell_type": "markdown",
   "metadata": {},
   "source": [
    "#### Median tests"
   ]
  },
  {
   "cell_type": "code",
   "execution_count": 73,
   "metadata": {},
   "outputs": [
    {
     "name": "stdout",
     "output_type": "stream",
     "text": [
      "<class 'pandas.core.frame.DataFrame'>\n",
      "RangeIndex: 7546 entries, 0 to 7545\n",
      "Data columns (total 53 columns):\n",
      " #   Column                            Non-Null Count  Dtype  \n",
      "---  ------                            --------------  -----  \n",
      " 0   doi                               7546 non-null   string \n",
      " 1   title                             7546 non-null   string \n",
      " 2   authors                           7546 non-null   string \n",
      " 3   author_corresponding              7546 non-null   string \n",
      " 4   author_corresponding_institution  7546 non-null   string \n",
      " 5   date                              7546 non-null   object \n",
      " 6   version                           7546 non-null   Int64  \n",
      " 7   type                              7542 non-null   object \n",
      " 8   license                           7540 non-null   object \n",
      " 9   category                          7546 non-null   string \n",
      " 10  abstract                          7546 non-null   string \n",
      " 11  published                         7546 non-null   string \n",
      " 12  server                            7546 non-null   string \n",
      " 13  pmid                              7546 non-null   Int64  \n",
      " 14  pmcid                             6138 non-null   float64\n",
      " 15  pub_date                          6863 non-null   object \n",
      " 16  pub_date_type                     6863 non-null   string \n",
      " 17  pub_date_received                 6445 non-null   object \n",
      " 18  pub_date_accepted                 6326 non-null   object \n",
      " 19  pub_date_entrez                   7546 non-null   object \n",
      " 20  pub_date_pubmed                   7546 non-null   object \n",
      " 21  pub_date_medline                  7546 non-null   object \n",
      " 22  pub_journal_name                  7546 non-null   string \n",
      " 23  pub_num_authors                   7546 non-null   Int64  \n",
      " 24  pub_title                         7546 non-null   string \n",
      " 25  pub_abstract                      7546 non-null   string \n",
      " 26  pm_pub_types                      7546 non-null   object \n",
      " 27  crossref_pub_date                 7546 non-null   object \n",
      " 28  pp_citations                      7545 non-null   object \n",
      " 29  pub_citations                     7546 non-null   object \n",
      " 30  scraped_abstract                  7546 non-null   string \n",
      " 31  pp_num_citations                  7545 non-null   Int64  \n",
      " 32  pub_num_citations                 7546 non-null   Int64  \n",
      " 33  engagementMetrics                 400 non-null    object \n",
      " 34  pp_dimensionsID                   7545 non-null   object \n",
      " 35  dimensionsID                      7546 non-null   object \n",
      " 36  pub_date_revised                  2301 non-null   object \n",
      " 37  pub_date_pmc-release              511 non-null    object \n",
      " 38  Abstract Views                    4250 non-null   float64\n",
      " 39  PDF Downloads                     4250 non-null   float64\n",
      " 40  trial_yn                          7546 non-null   bool   \n",
      " 41  review_yn                         7546 non-null   bool   \n",
      " 42  cohort                            7546 non-null   object \n",
      " 43  scraped_abstract_lemmatized       7546 non-null   object \n",
      " 44  pub_abstract_lemmatized           7546 non-null   object \n",
      " 45  abstract_diff_cosine_tf           7546 non-null   float64\n",
      " 46  pp_num_authors                    7546 non-null   Int64  \n",
      " 47  scraped_abstract_wc               7546 non-null   Int64  \n",
      " 48  pub_abstract_wc                   7546 non-null   Int64  \n",
      " 49  scraped_abstract_lemmatized_wc    7546 non-null   Int64  \n",
      " 50  pub_abstract_lemmatized_wc        7546 non-null   Int64  \n",
      " 51  days_to_publication               7546 non-null   int64  \n",
      " 52  author_change                     7546 non-null   Int64  \n",
      "dtypes: Int64(11), bool(2), float64(4), int64(1), object(21), string(14)\n",
      "memory usage: 3.0+ MB\n"
     ]
    }
   ],
   "source": [
    "df.info()\n"
   ]
  },
  {
   "cell_type": "code",
   "execution_count": 74,
   "metadata": {},
   "outputs": [
    {
     "name": "stdout",
     "output_type": "stream",
     "text": [
      "median_test on days_to_publication:\n",
      "\n",
      "int vs. ext control (p): \t0.7142172489208662\n",
      "SARS vs. int. control (p): \t2.6342303442686766e-59\n",
      "SARS vs. ext. control (p): \t1.4945696212342666e-52\n"
     ]
    }
   ],
   "source": [
    "from scipy.stats import median_test\n",
    "\n",
    "data_frame = df\n",
    "# data_frame = test_pub_df\n",
    "# data_frame = test_pp_df\n",
    "\n",
    "func = median_test\n",
    "\n",
    "# metric = 'Tweet'\n",
    "# metric = 'abstract_diff_cosine_tf'\n",
    "# metric = 'scraped_abstract_lemmatized_wc'\n",
    "# metric = 'pub_abstract_lemmatized_wc'\n",
    "metric = 'days_to_publication'\n",
    "\n",
    "control = data_frame[data_frame.cohort ==\n",
    "                     'preceding control period'][metric].tolist()\n",
    "non_SARS = data_frame[data_frame.cohort ==\n",
    "                      'intra-pandemic non-SARS-CoV-2'][metric].tolist()\n",
    "SARS = data_frame[data_frame.cohort ==\n",
    "                  'intra-pandemic SARS-CoV-2'][metric].tolist()\n",
    "\n",
    "print(\"%s on %s:\\n\" % (func.__name__, metric))\n",
    "print(\"int vs. ext control (p): \\t%s\" % func(control, non_SARS)[1])\n",
    "print(\"SARS vs. int. control (p): \\t%s\" % func(SARS, non_SARS)[1])\n",
    "print(\"SARS vs. ext. control (p): \\t%s\" % func(control, SARS)[1])\n"
   ]
  },
  {
   "cell_type": "markdown",
   "metadata": {},
   "source": [
    "#### Chi-square tests"
   ]
  },
  {
   "cell_type": "code",
   "execution_count": 73,
   "metadata": {},
   "outputs": [
    {
     "name": "stdout",
     "output_type": "stream",
     "text": [
      "\n",
      "chi2_contingency on Had change in total authors:\n",
      "\n",
      "SARS vs. external control (p): \t8.396055921263295e-35\n",
      "SARS vs. internal control (p): \t8.769098018919964e-32\n",
      "controls (p): \t\t\t0.9396334281210528\n",
      "\n",
      "chi2_contingency on server:\n",
      "\n",
      "SARS vs. external control (p): \t0.0\n",
      "SARS vs. internal control (p): \t0.0\n",
      "controls (p): \t\t\t3.957393876079227e-20\n",
      "\n",
      "chi2_contingency on Mentioned in the news in the first 30 days (preprint):\n",
      "\n",
      "SARS vs. external control (p): \t8.943589589301428e-270\n",
      "SARS vs. internal control (p): \t6.805778925925157e-204\n",
      "controls (p): \t\t\t0.0699360249998191\n",
      "\n",
      "chi2_contingency on Mentioned in policy documents in the first 30 days (preprint):\n",
      "\n",
      "SARS vs. external control (p): \t6.720017687812998e-17\n",
      "SARS vs. internal control (p): \t2.749305438719454e-13\n",
      "\n",
      "chi2_contingency on Mentioned in the news in the first 30 days (publication):\n",
      "\n",
      "SARS vs. external control (p): \t3.7411150118124363e-69\n",
      "SARS vs. internal control (p): \t7.428952018802862e-68\n",
      "controls (p): \t\t\t0.35838427017177277\n",
      "\n",
      "chi2_contingency on Mentioned in policy documents in the first 30 days (publication):\n",
      "\n",
      "SARS vs. external control (p): \t7.166655859055333e-35\n",
      "SARS vs. internal control (p): \t1.3879009302345833e-27\n",
      "controls (p): \t\t\t0.5898866856695905\n"
     ]
    }
   ],
   "source": [
    "from scipy.stats import chi2_contingency\n",
    "\n",
    "func = chi2_contingency\n",
    "\n",
    "SARS_N = 1177\n",
    "int_control_N = 3603\n",
    "ext_control_N = 2766\n",
    "\n",
    "# Change in total authors\n",
    "metric = 'Had change in total authors'\n",
    "\n",
    "SARS_sample_size = 325\n",
    "int_control_sample_size = 445\n",
    "ext_control_sample_size = 339\n",
    "\n",
    "SARS_v_int_control_obs = np.array([[SARS_N - SARS_sample_size, int_control_N - int_control_sample_size],\n",
    "                                   [SARS_sample_size, int_control_sample_size]])\n",
    "SARS_v_ext_control_obs = np.array([[SARS_N - SARS_sample_size, ext_control_N - ext_control_sample_size],\n",
    "                                   [SARS_sample_size, ext_control_sample_size]])\n",
    "int_v_ext_control_obs = np.array([[int_control_N - int_control_sample_size, ext_control_N - ext_control_sample_size],\n",
    "                                  [int_control_sample_size, ext_control_sample_size]])\n",
    "\n",
    "print(\"\\n%s on %s:\\n\" % (func.__name__, metric))\n",
    "print(\"SARS vs. external control (p): \\t%s\" % func(SARS_v_int_control_obs)[1])\n",
    "print(\"SARS vs. internal control (p): \\t%s\" % func(SARS_v_ext_control_obs)[1])\n",
    "print(\"controls (p): \\t\\t\\t%s\" % func(int_v_ext_control_obs)[1])\n",
    "\n",
    "# Preprint repository percentage\n",
    "metric = 'server'\n",
    "\n",
    "SARS_sample_size = 482\n",
    "int_control_sample_size = 3380\n",
    "ext_control_sample_size = 2724\n",
    "\n",
    "SARS_v_int_control_obs = np.array([[SARS_N - SARS_sample_size, int_control_N - int_control_sample_size],\n",
    "                                   [SARS_sample_size, int_control_sample_size]])\n",
    "SARS_v_ext_control_obs = np.array([[SARS_N - SARS_sample_size, ext_control_N - ext_control_sample_size],\n",
    "                                   [SARS_sample_size, ext_control_sample_size]])\n",
    "int_v_ext_control_obs = np.array([[int_control_N - int_control_sample_size, ext_control_N - ext_control_sample_size],\n",
    "                                  [int_control_sample_size, ext_control_sample_size]])\n",
    "\n",
    "print(\"\\n%s on %s:\\n\" % (func.__name__, metric))\n",
    "print(\"SARS vs. external control (p): \\t%s\" % func(SARS_v_int_control_obs)[1])\n",
    "print(\"SARS vs. internal control (p): \\t%s\" % func(SARS_v_ext_control_obs)[1])\n",
    "print(\"controls (p): \\t\\t\\t%s\" % func(int_v_ext_control_obs)[1])\n",
    "\n",
    "# Media mentions\n",
    "metric = 'Mentioned in the news in the first 30 days (preprint)'\n",
    "\n",
    "SARS_sample_size = 392\n",
    "int_control_sample_size = 14\n",
    "ext_control_sample_size = 21\n",
    "\n",
    "SARS_v_int_control_obs = np.array([[SARS_N - SARS_sample_size, int_control_N - int_control_sample_size],\n",
    "                                   [SARS_sample_size, int_control_sample_size]])\n",
    "SARS_v_ext_control_obs = np.array([[SARS_N - SARS_sample_size, ext_control_N - ext_control_sample_size],\n",
    "                                   [SARS_sample_size, ext_control_sample_size]])\n",
    "int_v_ext_control_obs = np.array([[int_control_N - int_control_sample_size, ext_control_N - ext_control_sample_size],\n",
    "                                  [int_control_sample_size, ext_control_sample_size]])\n",
    "\n",
    "print(\"\\n%s on %s:\\n\" % (func.__name__, metric))\n",
    "print(\"SARS vs. external control (p): \\t%s\" % func(SARS_v_int_control_obs)[1])\n",
    "print(\"SARS vs. internal control (p): \\t%s\" % func(SARS_v_ext_control_obs)[1])\n",
    "print(\"controls (p): \\t\\t\\t%s\" % func(int_v_ext_control_obs)[1])\n",
    "\n",
    "\n",
    "# Policy mentions\n",
    "metric = 'Mentioned in policy documents in the first 30 days (preprint)'\n",
    "\n",
    "SARS_sample_size = 24\n",
    "int_control_sample_size = 0\n",
    "ext_control_sample_size = 0\n",
    "\n",
    "SARS_v_int_control_obs = np.array([[SARS_N - SARS_sample_size, int_control_N - int_control_sample_size],\n",
    "                                   [SARS_sample_size, int_control_sample_size]])\n",
    "SARS_v_ext_control_obs = np.array([[SARS_N - SARS_sample_size, ext_control_N - ext_control_sample_size],\n",
    "                                   [SARS_sample_size, ext_control_sample_size]])\n",
    "int_v_ext_control_obs = np.array([[int_control_N - int_control_sample_size, ext_control_N - ext_control_sample_size],\n",
    "                                  [int_control_sample_size, ext_control_sample_size]])\n",
    "\n",
    "print(\"\\n%s on %s:\\n\" % (func.__name__, metric))\n",
    "print(\"SARS vs. external control (p): \\t%s\" % func(SARS_v_int_control_obs)[1])\n",
    "print(\"SARS vs. internal control (p): \\t%s\" % func(SARS_v_ext_control_obs)[1])\n",
    "#print(\"controls (p): \\t\\t\\t%s\" % func(int_v_ext_control_obs)[1])\n",
    "\n",
    "SARS_N = SARS_N - 22\n",
    "int_control_N = int_control_N - 70\n",
    "\n",
    "metric = 'Mentioned in the news in the first 30 days (publication)'\n",
    "\n",
    "SARS_sample_size = 428\n",
    "int_control_sample_size = 476\n",
    "ext_control_sample_size = 350\n",
    "\n",
    "SARS_v_int_control_obs = np.array([[SARS_N - SARS_sample_size, int_control_N - int_control_sample_size],\n",
    "                                   [SARS_sample_size, int_control_sample_size]])\n",
    "SARS_v_ext_control_obs = np.array([[SARS_N - SARS_sample_size, ext_control_N - ext_control_sample_size],\n",
    "                                   [SARS_sample_size, ext_control_sample_size]])\n",
    "int_v_ext_control_obs = np.array([[int_control_N - int_control_sample_size, ext_control_N - ext_control_sample_size],\n",
    "                                  [int_control_sample_size, ext_control_sample_size]])\n",
    "\n",
    "print(\"\\n%s on %s:\\n\" % (func.__name__, metric))\n",
    "print(\"SARS vs. external control (p): \\t%s\" % func(SARS_v_int_control_obs)[1])\n",
    "print(\"SARS vs. internal control (p): \\t%s\" % func(SARS_v_ext_control_obs)[1])\n",
    "print(\"controls (p): \\t\\t\\t%s\" % func(int_v_ext_control_obs)[1])\n",
    "\n",
    "metric = 'Mentioned in policy documents in the first 30 days (publication)'\n",
    "\n",
    "SARS_sample_size = 52\n",
    "int_control_sample_size = 1\n",
    "ext_control_sample_size = 1\n",
    "\n",
    "SARS_v_int_control_obs = np.array([[SARS_N - SARS_sample_size, int_control_N - int_control_sample_size],\n",
    "                                   [SARS_sample_size, int_control_sample_size]])\n",
    "SARS_v_ext_control_obs = np.array([[SARS_N - SARS_sample_size, ext_control_N - ext_control_sample_size],\n",
    "                                   [SARS_sample_size, ext_control_sample_size]])\n",
    "int_v_ext_control_obs = np.array([[int_control_N - int_control_sample_size, ext_control_N - ext_control_sample_size],\n",
    "                                  [int_control_sample_size, ext_control_sample_size]])\n",
    "\n",
    "print(\"\\n%s on %s:\\n\" % (func.__name__, metric))\n",
    "print(\"SARS vs. external control (p): \\t%s\" % func(SARS_v_int_control_obs)[1])\n",
    "print(\"SARS vs. internal control (p): \\t%s\" % func(SARS_v_ext_control_obs)[1])\n",
    "print(\"controls (p): \\t\\t\\t%s\" % func(int_v_ext_control_obs)[1])\n"
   ]
  },
  {
   "cell_type": "markdown",
   "metadata": {},
   "source": [
    "### Visualizations"
   ]
  },
  {
   "cell_type": "code",
   "execution_count": 29,
   "metadata": {},
   "outputs": [
    {
     "data": {
      "text/plain": [
       "array([[<AxesSubplot:title={'center':'intra-pandemic SARS-CoV-2'}>,\n",
       "        <AxesSubplot:title={'center':'intra-pandemic non-SARS-CoV-2'}>],\n",
       "       [<AxesSubplot:title={'center':'preceding control period'}>,\n",
       "        <AxesSubplot:>]], dtype=object)"
      ]
     },
     "execution_count": 29,
     "metadata": {},
     "output_type": "execute_result"
    },
    {
     "data": {
      "image/png": "[encoded data removed]",
      "image/svg+xml": "<?xml version=\"1.0\" encoding=\"utf-8\" standalone=\"no\"?>\n<!DOCTYPE svg PUBLIC \"-//W3C//DTD SVG 1.1//EN\"\n  \"http://www.w3.org/Graphics/SVG/1.1/DTD/svg11.dtd\">\n<!-- Created with matplotlib (https://matplotlib.org/) -->\n<svg height=\"271.605625pt\" version=\"1.1\" viewBox=\"0 0 407.798003 271.605625\" width=\"407.798003pt\" xmlns=\"http://www.w3.org/2000/svg\" xmlns:xlink=\"http://www.w3.org/1999/xlink\">\n <metadata>\n  <rdf:RDF xmlns:cc=\"http://creativecommons.org/ns#\" xmlns:dc=\"http://purl.org/dc/elements/1.1/\" xmlns:rdf=\"http://www.w3.org/1999/02/22-rdf-syntax-ns#\">\n   <cc:Work>\n    <dc:type rdf:resource=\"http://purl.org/dc/dcmitype/StillImage\"/>\n    <dc:date>2020-10-09T10:41:16.579128</dc:date>\n    <dc:format>image/svg+xml</dc:format>\n    <dc:creator>\n     <cc:Agent>\n      <dc:title>Matplotlib v3.3.2, https://matplotlib.org/</dc:title>\n     </cc:Agent>\n    </dc:creator>\n   </cc:Work>\n  </rdf:RDF>\n </metadata>\n <defs>\n  <style type=\"text/css\">*{stroke-linecap:butt;stroke-linejoin:round;}</style>\n </defs>\n <g id=\"figure_1\">\n  <g id=\"patch_1\">\n   <path d=\"M 0 271.605625 \nL 407.798003 271.605625 \nL 407.798003 0 \nL 0 0 \nz\n\" style=\"fill:none;\"/>\n  </g>\n  <g id=\"axes_1\">\n   <g id=\"patch_2\">\n    <path d=\"M 33.2875 108.718125 \nL 183.54837 108.718125 \nL 183.54837 22.318125 \nL 33.2875 22.318125 \nz\n\" style=\"fill:#ffffff;\"/>\n   </g>\n   <g id=\"patch_3\">\n    <path clip-path=\"url(#p76bca5420f)\" d=\"M 40.11754 108.718125 \nL 53.777619 108.718125 \nL 53.777619 26.432411 \nL 40.11754 26.432411 \nz\n\" style=\"fill:#1f77b4;\"/>\n   </g>\n   <g id=\"patch_4\">\n    <path clip-path=\"url(#p76bca5420f)\" d=\"M 53.777619 108.718125 \nL 67.437698 108.718125 \nL 67.437698 87.874227 \nL 53.777619 87.874227 \nz\n\" style=\"fill:#1f77b4;\"/>\n   </g>\n   <g id=\"patch_5\">\n    <path clip-path=\"url(#p76bca5420f)\" d=\"M 67.437698 108.718125 \nL 81.097777 108.718125 \nL 81.097777 105.03979 \nL 67.437698 105.03979 \nz\n\" style=\"fill:#1f77b4;\"/>\n   </g>\n   <g id=\"patch_6\">\n    <path clip-path=\"url(#p76bca5420f)\" d=\"M 81.097777 108.718125 \nL 94.757856 108.718125 \nL 94.757856 107.764483 \nL 81.097777 107.764483 \nz\n\" style=\"fill:#1f77b4;\"/>\n   </g>\n   <g id=\"patch_7\">\n    <path clip-path=\"url(#p76bca5420f)\" d=\"M 94.757856 108.718125 \nL 108.417935 108.718125 \nL 108.417935 108.58189 \nL 94.757856 108.58189 \nz\n\" style=\"fill:#1f77b4;\"/>\n   </g>\n   <g id=\"patch_8\">\n    <path clip-path=\"url(#p76bca5420f)\" d=\"M 108.417935 108.718125 \nL 122.078014 108.718125 \nL 122.078014 108.718125 \nL 108.417935 108.718125 \nz\n\" style=\"fill:#1f77b4;\"/>\n   </g>\n   <g id=\"patch_9\">\n    <path clip-path=\"url(#p76bca5420f)\" d=\"M 122.078014 108.718125 \nL 135.738093 108.718125 \nL 135.738093 108.58189 \nL 122.078014 108.58189 \nz\n\" style=\"fill:#1f77b4;\"/>\n   </g>\n   <g id=\"patch_10\">\n    <path clip-path=\"url(#p76bca5420f)\" d=\"M 135.738093 108.718125 \nL 149.398172 108.718125 \nL 149.398172 108.58189 \nL 135.738093 108.58189 \nz\n\" style=\"fill:#1f77b4;\"/>\n   </g>\n   <g id=\"patch_11\">\n    <path clip-path=\"url(#p76bca5420f)\" d=\"M 149.398172 108.718125 \nL 163.058251 108.718125 \nL 163.058251 108.445656 \nL 149.398172 108.445656 \nz\n\" style=\"fill:#1f77b4;\"/>\n   </g>\n   <g id=\"patch_12\">\n    <path clip-path=\"url(#p76bca5420f)\" d=\"M 163.058251 108.718125 \nL 176.71833 108.718125 \nL 176.71833 108.58189 \nL 163.058251 108.58189 \nz\n\" style=\"fill:#1f77b4;\"/>\n   </g>\n   <g id=\"matplotlib.axis_1\">\n    <g id=\"xtick_1\">\n     <g id=\"line2d_1\">\n      <defs>\n       <path d=\"M 0 0 \nL 0 3.5 \n\" id=\"m373157358d\" style=\"stroke:#000000;stroke-width:0.8;\"/>\n      </defs>\n      <g>\n       <use style=\"stroke:#000000;stroke-width:0.8;\" x=\"38.988607\" xlink:href=\"#m373157358d\" y=\"108.718125\"/>\n      </g>\n     </g>\n    </g>\n    <g id=\"xtick_2\">\n     <g id=\"line2d_2\">\n      <g>\n       <use style=\"stroke:#000000;stroke-width:0.8;\" x=\"95.435215\" xlink:href=\"#m373157358d\" y=\"108.718125\"/>\n      </g>\n     </g>\n    </g>\n    <g id=\"xtick_3\">\n     <g id=\"line2d_3\">\n      <g>\n       <use style=\"stroke:#000000;stroke-width:0.8;\" x=\"151.881823\" xlink:href=\"#m373157358d\" y=\"108.718125\"/>\n      </g>\n     </g>\n    </g>\n   </g>\n   <g id=\"matplotlib.axis_2\">\n    <g id=\"ytick_1\">\n     <g id=\"line2d_4\">\n      <defs>\n       <path d=\"M 0 0 \nL -3.5 0 \n\" id=\"mbf6486fbf9\" style=\"stroke:#000000;stroke-width:0.8;\"/>\n      </defs>\n      <g>\n       <use style=\"stroke:#000000;stroke-width:0.8;\" x=\"33.2875\" xlink:href=\"#mbf6486fbf9\" y=\"108.718125\"/>\n      </g>\n     </g>\n     <g id=\"text_1\">\n      <!-- 0 -->\n      <g transform=\"translate(19.925 112.517344)scale(0.1 -0.1)\">\n       <defs>\n        <path d=\"M 31.78125 66.40625 \nQ 24.171875 66.40625 20.328125 58.90625 \nQ 16.5 51.421875 16.5 36.375 \nQ 16.5 21.390625 20.328125 13.890625 \nQ 24.171875 6.390625 31.78125 6.390625 \nQ 39.453125 6.390625 43.28125 13.890625 \nQ 47.125 21.390625 47.125 36.375 \nQ 47.125 51.421875 43.28125 58.90625 \nQ 39.453125 66.40625 31.78125 66.40625 \nz\nM 31.78125 74.21875 \nQ 44.046875 74.21875 50.515625 64.515625 \nQ 56.984375 54.828125 56.984375 36.375 \nQ 56.984375 17.96875 50.515625 8.265625 \nQ 44.046875 -1.421875 31.78125 -1.421875 \nQ 19.53125 -1.421875 13.0625 8.265625 \nQ 6.59375 17.96875 6.59375 36.375 \nQ 6.59375 54.828125 13.0625 64.515625 \nQ 19.53125 74.21875 31.78125 74.21875 \nz\n\" id=\"DejaVuSans-48\"/>\n       </defs>\n       <use xlink:href=\"#DejaVuSans-48\"/>\n      </g>\n     </g>\n    </g>\n    <g id=\"ytick_2\">\n     <g id=\"line2d_5\">\n      <g>\n       <use style=\"stroke:#000000;stroke-width:0.8;\" x=\"33.2875\" xlink:href=\"#mbf6486fbf9\" y=\"81.4712\"/>\n      </g>\n     </g>\n     <g id=\"text_2\">\n      <!-- 200 -->\n      <g transform=\"translate(7.2 85.270418)scale(0.1 -0.1)\">\n       <defs>\n        <path d=\"M 19.1875 8.296875 \nL 53.609375 8.296875 \nL 53.609375 0 \nL 7.328125 0 \nL 7.328125 8.296875 \nQ 12.9375 14.109375 22.625 23.890625 \nQ 32.328125 33.6875 34.8125 36.53125 \nQ 39.546875 41.84375 41.421875 45.53125 \nQ 43.3125 49.21875 43.3125 52.78125 \nQ 43.3125 58.59375 39.234375 62.25 \nQ 35.15625 65.921875 28.609375 65.921875 \nQ 23.96875 65.921875 18.8125 64.3125 \nQ 13.671875 62.703125 7.8125 59.421875 \nL 7.8125 69.390625 \nQ 13.765625 71.78125 18.9375 73 \nQ 24.125 74.21875 28.421875 74.21875 \nQ 39.75 74.21875 46.484375 68.546875 \nQ 53.21875 62.890625 53.21875 53.421875 \nQ 53.21875 48.921875 51.53125 44.890625 \nQ 49.859375 40.875 45.40625 35.40625 \nQ 44.1875 33.984375 37.640625 27.21875 \nQ 31.109375 20.453125 19.1875 8.296875 \nz\n\" id=\"DejaVuSans-50\"/>\n       </defs>\n       <use xlink:href=\"#DejaVuSans-50\"/>\n       <use x=\"63.623047\" xlink:href=\"#DejaVuSans-48\"/>\n       <use x=\"127.246094\" xlink:href=\"#DejaVuSans-48\"/>\n      </g>\n     </g>\n    </g>\n    <g id=\"ytick_3\">\n     <g id=\"line2d_6\">\n      <g>\n       <use style=\"stroke:#000000;stroke-width:0.8;\" x=\"33.2875\" xlink:href=\"#mbf6486fbf9\" y=\"54.224274\"/>\n      </g>\n     </g>\n     <g id=\"text_3\">\n      <!-- 400 -->\n      <g transform=\"translate(7.2 58.023493)scale(0.1 -0.1)\">\n       <defs>\n        <path d=\"M 37.796875 64.3125 \nL 12.890625 25.390625 \nL 37.796875 25.390625 \nz\nM 35.203125 72.90625 \nL 47.609375 72.90625 \nL 47.609375 25.390625 \nL 58.015625 25.390625 \nL 58.015625 17.1875 \nL 47.609375 17.1875 \nL 47.609375 0 \nL 37.796875 0 \nL 37.796875 17.1875 \nL 4.890625 17.1875 \nL 4.890625 26.703125 \nz\n\" id=\"DejaVuSans-52\"/>\n       </defs>\n       <use xlink:href=\"#DejaVuSans-52\"/>\n       <use x=\"63.623047\" xlink:href=\"#DejaVuSans-48\"/>\n       <use x=\"127.246094\" xlink:href=\"#DejaVuSans-48\"/>\n      </g>\n     </g>\n    </g>\n    <g id=\"ytick_4\">\n     <g id=\"line2d_7\">\n      <g>\n       <use style=\"stroke:#000000;stroke-width:0.8;\" x=\"33.2875\" xlink:href=\"#mbf6486fbf9\" y=\"26.977349\"/>\n      </g>\n     </g>\n     <g id=\"text_4\">\n      <!-- 600 -->\n      <g transform=\"translate(7.2 30.776568)scale(0.1 -0.1)\">\n       <defs>\n        <path d=\"M 33.015625 40.375 \nQ 26.375 40.375 22.484375 35.828125 \nQ 18.609375 31.296875 18.609375 23.390625 \nQ 18.609375 15.53125 22.484375 10.953125 \nQ 26.375 6.390625 33.015625 6.390625 \nQ 39.65625 6.390625 43.53125 10.953125 \nQ 47.40625 15.53125 47.40625 23.390625 \nQ 47.40625 31.296875 43.53125 35.828125 \nQ 39.65625 40.375 33.015625 40.375 \nz\nM 52.59375 71.296875 \nL 52.59375 62.3125 \nQ 48.875 64.0625 45.09375 64.984375 \nQ 41.3125 65.921875 37.59375 65.921875 \nQ 27.828125 65.921875 22.671875 59.328125 \nQ 17.53125 52.734375 16.796875 39.40625 \nQ 19.671875 43.65625 24.015625 45.921875 \nQ 28.375 48.1875 33.59375 48.1875 \nQ 44.578125 48.1875 50.953125 41.515625 \nQ 57.328125 34.859375 57.328125 23.390625 \nQ 57.328125 12.15625 50.6875 5.359375 \nQ 44.046875 -1.421875 33.015625 -1.421875 \nQ 20.359375 -1.421875 13.671875 8.265625 \nQ 6.984375 17.96875 6.984375 36.375 \nQ 6.984375 53.65625 15.1875 63.9375 \nQ 23.390625 74.21875 37.203125 74.21875 \nQ 40.921875 74.21875 44.703125 73.484375 \nQ 48.484375 72.75 52.59375 71.296875 \nz\n\" id=\"DejaVuSans-54\"/>\n       </defs>\n       <use xlink:href=\"#DejaVuSans-54\"/>\n       <use x=\"63.623047\" xlink:href=\"#DejaVuSans-48\"/>\n       <use x=\"127.246094\" xlink:href=\"#DejaVuSans-48\"/>\n      </g>\n     </g>\n    </g>\n   </g>\n   <g id=\"patch_13\">\n    <path d=\"M 33.2875 108.718125 \nL 33.2875 22.318125 \n\" style=\"fill:none;stroke:#000000;stroke-linecap:square;stroke-linejoin:miter;stroke-width:0.8;\"/>\n   </g>\n   <g id=\"patch_14\">\n    <path d=\"M 183.54837 108.718125 \nL 183.54837 22.318125 \n\" style=\"fill:none;stroke:#000000;stroke-linecap:square;stroke-linejoin:miter;stroke-width:0.8;\"/>\n   </g>\n   <g id=\"patch_15\">\n    <path d=\"M 33.2875 108.718125 \nL 183.54837 108.718125 \n\" style=\"fill:none;stroke:#000000;stroke-linecap:square;stroke-linejoin:miter;stroke-width:0.8;\"/>\n   </g>\n   <g id=\"patch_16\">\n    <path d=\"M 33.2875 22.318125 \nL 183.54837 22.318125 \n\" style=\"fill:none;stroke:#000000;stroke-linecap:square;stroke-linejoin:miter;stroke-width:0.8;\"/>\n   </g>\n   <g id=\"text_5\">\n    <!-- intra-pandemic SARS-CoV-2 -->\n    <g transform=\"translate(25.017935 16.318125)scale(0.12 -0.12)\">\n     <defs>\n      <path d=\"M 9.421875 54.6875 \nL 18.40625 54.6875 \nL 18.40625 0 \nL 9.421875 0 \nz\nM 9.421875 75.984375 \nL 18.40625 75.984375 \nL 18.40625 64.59375 \nL 9.421875 64.59375 \nz\n\" id=\"DejaVuSans-105\"/>\n      <path d=\"M 54.890625 33.015625 \nL 54.890625 0 \nL 45.90625 0 \nL 45.90625 32.71875 \nQ 45.90625 40.484375 42.875 44.328125 \nQ 39.84375 48.1875 33.796875 48.1875 \nQ 26.515625 48.1875 22.3125 43.546875 \nQ 18.109375 38.921875 18.109375 30.90625 \nL 18.109375 0 \nL 9.078125 0 \nL 9.078125 54.6875 \nL 18.109375 54.6875 \nL 18.109375 46.1875 \nQ 21.34375 51.125 25.703125 53.5625 \nQ 30.078125 56 35.796875 56 \nQ 45.21875 56 50.046875 50.171875 \nQ 54.890625 44.34375 54.890625 33.015625 \nz\n\" id=\"DejaVuSans-110\"/>\n      <path d=\"M 18.3125 70.21875 \nL 18.3125 54.6875 \nL 36.8125 54.6875 \nL 36.8125 47.703125 \nL 18.3125 47.703125 \nL 18.3125 18.015625 \nQ 18.3125 11.328125 20.140625 9.421875 \nQ 21.96875 7.515625 27.59375 7.515625 \nL 36.8125 7.515625 \nL 36.8125 0 \nL 27.59375 0 \nQ 17.1875 0 13.234375 3.875 \nQ 9.28125 7.765625 9.28125 18.015625 \nL 9.28125 47.703125 \nL 2.6875 47.703125 \nL 2.6875 54.6875 \nL 9.28125 54.6875 \nL 9.28125 70.21875 \nz\n\" id=\"DejaVuSans-116\"/>\n      <path d=\"M 41.109375 46.296875 \nQ 39.59375 47.171875 37.8125 47.578125 \nQ 36.03125 48 33.890625 48 \nQ 26.265625 48 22.1875 43.046875 \nQ 18.109375 38.09375 18.109375 28.8125 \nL 18.109375 0 \nL 9.078125 0 \nL 9.078125 54.6875 \nL 18.109375 54.6875 \nL 18.109375 46.1875 \nQ 20.953125 51.171875 25.484375 53.578125 \nQ 30.03125 56 36.53125 56 \nQ 37.453125 56 38.578125 55.875 \nQ 39.703125 55.765625 41.0625 55.515625 \nz\n\" id=\"DejaVuSans-114\"/>\n      <path d=\"M 34.28125 27.484375 \nQ 23.390625 27.484375 19.1875 25 \nQ 14.984375 22.515625 14.984375 16.5 \nQ 14.984375 11.71875 18.140625 8.90625 \nQ 21.296875 6.109375 26.703125 6.109375 \nQ 34.1875 6.109375 38.703125 11.40625 \nQ 43.21875 16.703125 43.21875 25.484375 \nL 43.21875 27.484375 \nz\nM 52.203125 31.203125 \nL 52.203125 0 \nL 43.21875 0 \nL 43.21875 8.296875 \nQ 40.140625 3.328125 35.546875 0.953125 \nQ 30.953125 -1.421875 24.3125 -1.421875 \nQ 15.921875 -1.421875 10.953125 3.296875 \nQ 6 8.015625 6 15.921875 \nQ 6 25.140625 12.171875 29.828125 \nQ 18.359375 34.515625 30.609375 34.515625 \nL 43.21875 34.515625 \nL 43.21875 35.40625 \nQ 43.21875 41.609375 39.140625 45 \nQ 35.0625 48.390625 27.6875 48.390625 \nQ 23 48.390625 18.546875 47.265625 \nQ 14.109375 46.140625 10.015625 43.890625 \nL 10.015625 52.203125 \nQ 14.9375 54.109375 19.578125 55.046875 \nQ 24.21875 56 28.609375 56 \nQ 40.484375 56 46.34375 49.84375 \nQ 52.203125 43.703125 52.203125 31.203125 \nz\n\" id=\"DejaVuSans-97\"/>\n      <path d=\"M 4.890625 31.390625 \nL 31.203125 31.390625 \nL 31.203125 23.390625 \nL 4.890625 23.390625 \nz\n\" id=\"DejaVuSans-45\"/>\n      <path d=\"M 18.109375 8.203125 \nL 18.109375 -20.796875 \nL 9.078125 -20.796875 \nL 9.078125 54.6875 \nL 18.109375 54.6875 \nL 18.109375 46.390625 \nQ 20.953125 51.265625 25.265625 53.625 \nQ 29.59375 56 35.59375 56 \nQ 45.5625 56 51.78125 48.09375 \nQ 58.015625 40.1875 58.015625 27.296875 \nQ 58.015625 14.40625 51.78125 6.484375 \nQ 45.5625 -1.421875 35.59375 -1.421875 \nQ 29.59375 -1.421875 25.265625 0.953125 \nQ 20.953125 3.328125 18.109375 8.203125 \nz\nM 48.6875 27.296875 \nQ 48.6875 37.203125 44.609375 42.84375 \nQ 40.53125 48.484375 33.40625 48.484375 \nQ 26.265625 48.484375 22.1875 42.84375 \nQ 18.109375 37.203125 18.109375 27.296875 \nQ 18.109375 17.390625 22.1875 11.75 \nQ 26.265625 6.109375 33.40625 6.109375 \nQ 40.53125 6.109375 44.609375 11.75 \nQ 48.6875 17.390625 48.6875 27.296875 \nz\n\" id=\"DejaVuSans-112\"/>\n      <path d=\"M 45.40625 46.390625 \nL 45.40625 75.984375 \nL 54.390625 75.984375 \nL 54.390625 0 \nL 45.40625 0 \nL 45.40625 8.203125 \nQ 42.578125 3.328125 38.25 0.953125 \nQ 33.9375 -1.421875 27.875 -1.421875 \nQ 17.96875 -1.421875 11.734375 6.484375 \nQ 5.515625 14.40625 5.515625 27.296875 \nQ 5.515625 40.1875 11.734375 48.09375 \nQ 17.96875 56 27.875 56 \nQ 33.9375 56 38.25 53.625 \nQ 42.578125 51.265625 45.40625 46.390625 \nz\nM 14.796875 27.296875 \nQ 14.796875 17.390625 18.875 11.75 \nQ 22.953125 6.109375 30.078125 6.109375 \nQ 37.203125 6.109375 41.296875 11.75 \nQ 45.40625 17.390625 45.40625 27.296875 \nQ 45.40625 37.203125 41.296875 42.84375 \nQ 37.203125 48.484375 30.078125 48.484375 \nQ 22.953125 48.484375 18.875 42.84375 \nQ 14.796875 37.203125 14.796875 27.296875 \nz\n\" id=\"DejaVuSans-100\"/>\n      <path d=\"M 56.203125 29.59375 \nL 56.203125 25.203125 \nL 14.890625 25.203125 \nQ 15.484375 15.921875 20.484375 11.0625 \nQ 25.484375 6.203125 34.421875 6.203125 \nQ 39.59375 6.203125 44.453125 7.46875 \nQ 49.3125 8.734375 54.109375 11.28125 \nL 54.109375 2.78125 \nQ 49.265625 0.734375 44.1875 -0.34375 \nQ 39.109375 -1.421875 33.890625 -1.421875 \nQ 20.796875 -1.421875 13.15625 6.1875 \nQ 5.515625 13.8125 5.515625 26.8125 \nQ 5.515625 40.234375 12.765625 48.109375 \nQ 20.015625 56 32.328125 56 \nQ 43.359375 56 49.78125 48.890625 \nQ 56.203125 41.796875 56.203125 29.59375 \nz\nM 47.21875 32.234375 \nQ 47.125 39.59375 43.09375 43.984375 \nQ 39.0625 48.390625 32.421875 48.390625 \nQ 24.90625 48.390625 20.390625 44.140625 \nQ 15.875 39.890625 15.1875 32.171875 \nz\n\" id=\"DejaVuSans-101\"/>\n      <path d=\"M 52 44.1875 \nQ 55.375 50.25 60.0625 53.125 \nQ 64.75 56 71.09375 56 \nQ 79.640625 56 84.28125 50.015625 \nQ 88.921875 44.046875 88.921875 33.015625 \nL 88.921875 0 \nL 79.890625 0 \nL 79.890625 32.71875 \nQ 79.890625 40.578125 77.09375 44.375 \nQ 74.3125 48.1875 68.609375 48.1875 \nQ 61.625 48.1875 57.5625 43.546875 \nQ 53.515625 38.921875 53.515625 30.90625 \nL 53.515625 0 \nL 44.484375 0 \nL 44.484375 32.71875 \nQ 44.484375 40.625 41.703125 44.40625 \nQ 38.921875 48.1875 33.109375 48.1875 \nQ 26.21875 48.1875 22.15625 43.53125 \nQ 18.109375 38.875 18.109375 30.90625 \nL 18.109375 0 \nL 9.078125 0 \nL 9.078125 54.6875 \nL 18.109375 54.6875 \nL 18.109375 46.1875 \nQ 21.1875 51.21875 25.484375 53.609375 \nQ 29.78125 56 35.6875 56 \nQ 41.65625 56 45.828125 52.96875 \nQ 50 49.953125 52 44.1875 \nz\n\" id=\"DejaVuSans-109\"/>\n      <path d=\"M 48.78125 52.59375 \nL 48.78125 44.1875 \nQ 44.96875 46.296875 41.140625 47.34375 \nQ 37.3125 48.390625 33.40625 48.390625 \nQ 24.65625 48.390625 19.8125 42.84375 \nQ 14.984375 37.3125 14.984375 27.296875 \nQ 14.984375 17.28125 19.8125 11.734375 \nQ 24.65625 6.203125 33.40625 6.203125 \nQ 37.3125 6.203125 41.140625 7.25 \nQ 44.96875 8.296875 48.78125 10.40625 \nL 48.78125 2.09375 \nQ 45.015625 0.34375 40.984375 -0.53125 \nQ 36.96875 -1.421875 32.421875 -1.421875 \nQ 20.0625 -1.421875 12.78125 6.34375 \nQ 5.515625 14.109375 5.515625 27.296875 \nQ 5.515625 40.671875 12.859375 48.328125 \nQ 20.21875 56 33.015625 56 \nQ 37.15625 56 41.109375 55.140625 \nQ 45.0625 54.296875 48.78125 52.59375 \nz\n\" id=\"DejaVuSans-99\"/>\n      <path id=\"DejaVuSans-32\"/>\n      <path d=\"M 53.515625 70.515625 \nL 53.515625 60.890625 \nQ 47.90625 63.578125 42.921875 64.890625 \nQ 37.9375 66.21875 33.296875 66.21875 \nQ 25.25 66.21875 20.875 63.09375 \nQ 16.5 59.96875 16.5 54.203125 \nQ 16.5 49.359375 19.40625 46.890625 \nQ 22.3125 44.4375 30.421875 42.921875 \nL 36.375 41.703125 \nQ 47.40625 39.59375 52.65625 34.296875 \nQ 57.90625 29 57.90625 20.125 \nQ 57.90625 9.515625 50.796875 4.046875 \nQ 43.703125 -1.421875 29.984375 -1.421875 \nQ 24.8125 -1.421875 18.96875 -0.25 \nQ 13.140625 0.921875 6.890625 3.21875 \nL 6.890625 13.375 \nQ 12.890625 10.015625 18.65625 8.296875 \nQ 24.421875 6.59375 29.984375 6.59375 \nQ 38.421875 6.59375 43.015625 9.90625 \nQ 47.609375 13.234375 47.609375 19.390625 \nQ 47.609375 24.75 44.3125 27.78125 \nQ 41.015625 30.8125 33.5 32.328125 \nL 27.484375 33.5 \nQ 16.453125 35.6875 11.515625 40.375 \nQ 6.59375 45.0625 6.59375 53.421875 \nQ 6.59375 63.09375 13.40625 68.65625 \nQ 20.21875 74.21875 32.171875 74.21875 \nQ 37.3125 74.21875 42.625 73.28125 \nQ 47.953125 72.359375 53.515625 70.515625 \nz\n\" id=\"DejaVuSans-83\"/>\n      <path d=\"M 34.1875 63.1875 \nL 20.796875 26.90625 \nL 47.609375 26.90625 \nz\nM 28.609375 72.90625 \nL 39.796875 72.90625 \nL 67.578125 0 \nL 57.328125 0 \nL 50.6875 18.703125 \nL 17.828125 18.703125 \nL 11.1875 0 \nL 0.78125 0 \nz\n\" id=\"DejaVuSans-65\"/>\n      <path d=\"M 44.390625 34.1875 \nQ 47.5625 33.109375 50.5625 29.59375 \nQ 53.5625 26.078125 56.59375 19.921875 \nL 66.609375 0 \nL 56 0 \nL 46.6875 18.703125 \nQ 43.0625 26.03125 39.671875 28.421875 \nQ 36.28125 30.8125 30.421875 30.8125 \nL 19.671875 30.8125 \nL 19.671875 0 \nL 9.8125 0 \nL 9.8125 72.90625 \nL 32.078125 72.90625 \nQ 44.578125 72.90625 50.734375 67.671875 \nQ 56.890625 62.453125 56.890625 51.90625 \nQ 56.890625 45.015625 53.6875 40.46875 \nQ 50.484375 35.9375 44.390625 34.1875 \nz\nM 19.671875 64.796875 \nL 19.671875 38.921875 \nL 32.078125 38.921875 \nQ 39.203125 38.921875 42.84375 42.21875 \nQ 46.484375 45.515625 46.484375 51.90625 \nQ 46.484375 58.296875 42.84375 61.546875 \nQ 39.203125 64.796875 32.078125 64.796875 \nz\n\" id=\"DejaVuSans-82\"/>\n      <path d=\"M 64.40625 67.28125 \nL 64.40625 56.890625 \nQ 59.421875 61.53125 53.78125 63.8125 \nQ 48.140625 66.109375 41.796875 66.109375 \nQ 29.296875 66.109375 22.65625 58.46875 \nQ 16.015625 50.828125 16.015625 36.375 \nQ 16.015625 21.96875 22.65625 14.328125 \nQ 29.296875 6.6875 41.796875 6.6875 \nQ 48.140625 6.6875 53.78125 8.984375 \nQ 59.421875 11.28125 64.40625 15.921875 \nL 64.40625 5.609375 \nQ 59.234375 2.09375 53.4375 0.328125 \nQ 47.65625 -1.421875 41.21875 -1.421875 \nQ 24.65625 -1.421875 15.125 8.703125 \nQ 5.609375 18.84375 5.609375 36.375 \nQ 5.609375 53.953125 15.125 64.078125 \nQ 24.65625 74.21875 41.21875 74.21875 \nQ 47.75 74.21875 53.53125 72.484375 \nQ 59.328125 70.75 64.40625 67.28125 \nz\n\" id=\"DejaVuSans-67\"/>\n      <path d=\"M 30.609375 48.390625 \nQ 23.390625 48.390625 19.1875 42.75 \nQ 14.984375 37.109375 14.984375 27.296875 \nQ 14.984375 17.484375 19.15625 11.84375 \nQ 23.34375 6.203125 30.609375 6.203125 \nQ 37.796875 6.203125 41.984375 11.859375 \nQ 46.1875 17.53125 46.1875 27.296875 \nQ 46.1875 37.015625 41.984375 42.703125 \nQ 37.796875 48.390625 30.609375 48.390625 \nz\nM 30.609375 56 \nQ 42.328125 56 49.015625 48.375 \nQ 55.71875 40.765625 55.71875 27.296875 \nQ 55.71875 13.875 49.015625 6.21875 \nQ 42.328125 -1.421875 30.609375 -1.421875 \nQ 18.84375 -1.421875 12.171875 6.21875 \nQ 5.515625 13.875 5.515625 27.296875 \nQ 5.515625 40.765625 12.171875 48.375 \nQ 18.84375 56 30.609375 56 \nz\n\" id=\"DejaVuSans-111\"/>\n      <path d=\"M 28.609375 0 \nL 0.78125 72.90625 \nL 11.078125 72.90625 \nL 34.1875 11.53125 \nL 57.328125 72.90625 \nL 67.578125 72.90625 \nL 39.796875 0 \nz\n\" id=\"DejaVuSans-86\"/>\n     </defs>\n     <use xlink:href=\"#DejaVuSans-105\"/>\n     <use x=\"27.783203\" xlink:href=\"#DejaVuSans-110\"/>\n     <use x=\"91.162109\" xlink:href=\"#DejaVuSans-116\"/>\n     <use x=\"130.371094\" xlink:href=\"#DejaVuSans-114\"/>\n     <use x=\"171.484375\" xlink:href=\"#DejaVuSans-97\"/>\n     <use x=\"232.763672\" xlink:href=\"#DejaVuSans-45\"/>\n     <use x=\"268.847656\" xlink:href=\"#DejaVuSans-112\"/>\n     <use x=\"332.324219\" xlink:href=\"#DejaVuSans-97\"/>\n     <use x=\"393.603516\" xlink:href=\"#DejaVuSans-110\"/>\n     <use x=\"456.982422\" xlink:href=\"#DejaVuSans-100\"/>\n     <use x=\"520.458984\" xlink:href=\"#DejaVuSans-101\"/>\n     <use x=\"581.982422\" xlink:href=\"#DejaVuSans-109\"/>\n     <use x=\"679.394531\" xlink:href=\"#DejaVuSans-105\"/>\n     <use x=\"707.177734\" xlink:href=\"#DejaVuSans-99\"/>\n     <use x=\"762.158203\" xlink:href=\"#DejaVuSans-32\"/>\n     <use x=\"793.945312\" xlink:href=\"#DejaVuSans-83\"/>\n     <use x=\"859.296875\" xlink:href=\"#DejaVuSans-65\"/>\n     <use x=\"927.705078\" xlink:href=\"#DejaVuSans-82\"/>\n     <use x=\"997.1875\" xlink:href=\"#DejaVuSans-83\"/>\n     <use x=\"1060.664062\" xlink:href=\"#DejaVuSans-45\"/>\n     <use x=\"1096.748047\" xlink:href=\"#DejaVuSans-67\"/>\n     <use x=\"1166.572266\" xlink:href=\"#DejaVuSans-111\"/>\n     <use x=\"1227.753906\" xlink:href=\"#DejaVuSans-86\"/>\n     <use x=\"1290.287109\" xlink:href=\"#DejaVuSans-45\"/>\n     <use x=\"1326.371094\" xlink:href=\"#DejaVuSans-50\"/>\n    </g>\n   </g>\n  </g>\n  <g id=\"axes_2\">\n   <g id=\"patch_17\">\n    <path d=\"M 228.62663 108.718125 \nL 378.8875 108.718125 \nL 378.8875 22.318125 \nL 228.62663 22.318125 \nz\n\" style=\"fill:#ffffff;\"/>\n   </g>\n   <g id=\"patch_18\">\n    <path clip-path=\"url(#p53f7392bde)\" d=\"M 235.45667 108.718125 \nL 247.987817 108.718125 \nL 247.987817 26.432411 \nL 235.45667 26.432411 \nz\n\" style=\"fill:#1f77b4;\"/>\n   </g>\n   <g id=\"patch_19\">\n    <path clip-path=\"url(#p53f7392bde)\" d=\"M 247.987817 108.718125 \nL 260.518964 108.718125 \nL 260.518964 98.53037 \nL 247.987817 98.53037 \nz\n\" style=\"fill:#1f77b4;\"/>\n   </g>\n   <g id=\"patch_20\">\n    <path clip-path=\"url(#p53f7392bde)\" d=\"M 260.518964 108.718125 \nL 273.050111 108.718125 \nL 273.050111 107.072411 \nL 260.518964 107.072411 \nz\n\" style=\"fill:#1f77b4;\"/>\n   </g>\n   <g id=\"patch_21\">\n    <path clip-path=\"url(#p53f7392bde)\" d=\"M 273.050111 108.718125 \nL 285.581258 108.718125 \nL 285.581258 108.639758 \nL 273.050111 108.639758 \nz\n\" style=\"fill:#1f77b4;\"/>\n   </g>\n   <g id=\"patch_22\">\n    <path clip-path=\"url(#p53f7392bde)\" d=\"M 285.581258 108.718125 \nL 298.112404 108.718125 \nL 298.112404 108.639758 \nL 285.581258 108.639758 \nz\n\" style=\"fill:#1f77b4;\"/>\n   </g>\n   <g id=\"patch_23\">\n    <path clip-path=\"url(#p53f7392bde)\" d=\"M 298.112404 108.718125 \nL 310.643551 108.718125 \nL 310.643551 108.718125 \nL 298.112404 108.718125 \nz\n\" style=\"fill:#1f77b4;\"/>\n   </g>\n   <g id=\"patch_24\">\n    <path clip-path=\"url(#p53f7392bde)\" d=\"M 310.643551 108.718125 \nL 323.174698 108.718125 \nL 323.174698 108.718125 \nL 310.643551 108.718125 \nz\n\" style=\"fill:#1f77b4;\"/>\n   </g>\n   <g id=\"patch_25\">\n    <path clip-path=\"url(#p53f7392bde)\" d=\"M 323.174698 108.718125 \nL 335.705845 108.718125 \nL 335.705845 108.718125 \nL 323.174698 108.718125 \nz\n\" style=\"fill:#1f77b4;\"/>\n   </g>\n   <g id=\"patch_26\">\n    <path clip-path=\"url(#p53f7392bde)\" d=\"M 335.705845 108.718125 \nL 348.236992 108.718125 \nL 348.236992 108.718125 \nL 335.705845 108.718125 \nz\n\" style=\"fill:#1f77b4;\"/>\n   </g>\n   <g id=\"patch_27\">\n    <path clip-path=\"url(#p53f7392bde)\" d=\"M 348.236992 108.718125 \nL 360.768139 108.718125 \nL 360.768139 108.56139 \nL 348.236992 108.56139 \nz\n\" style=\"fill:#1f77b4;\"/>\n   </g>\n   <g id=\"matplotlib.axis_3\">\n    <g id=\"xtick_4\">\n     <g id=\"line2d_8\">\n      <g>\n       <use style=\"stroke:#000000;stroke-width:0.8;\" x=\"234.327738\" xlink:href=\"#m373157358d\" y=\"108.718125\"/>\n      </g>\n     </g>\n     <g id=\"text_6\">\n      <!-- 0 -->\n      <g transform=\"translate(237.087113 122.080625)rotate(-90)scale(0.1 -0.1)\">\n       <use xlink:href=\"#DejaVuSans-48\"/>\n      </g>\n     </g>\n    </g>\n    <g id=\"xtick_5\">\n     <g id=\"line2d_9\">\n      <g>\n       <use style=\"stroke:#000000;stroke-width:0.8;\" x=\"290.774345\" xlink:href=\"#m373157358d\" y=\"108.718125\"/>\n      </g>\n     </g>\n     <g id=\"text_7\">\n      <!-- 50 -->\n      <g transform=\"translate(293.53372 128.443125)rotate(-90)scale(0.1 -0.1)\">\n       <defs>\n        <path d=\"M 10.796875 72.90625 \nL 49.515625 72.90625 \nL 49.515625 64.59375 \nL 19.828125 64.59375 \nL 19.828125 46.734375 \nQ 21.96875 47.46875 24.109375 47.828125 \nQ 26.265625 48.1875 28.421875 48.1875 \nQ 40.625 48.1875 47.75 41.5 \nQ 54.890625 34.8125 54.890625 23.390625 \nQ 54.890625 11.625 47.5625 5.09375 \nQ 40.234375 -1.421875 26.90625 -1.421875 \nQ 22.3125 -1.421875 17.546875 -0.640625 \nQ 12.796875 0.140625 7.71875 1.703125 \nL 7.71875 11.625 \nQ 12.109375 9.234375 16.796875 8.0625 \nQ 21.484375 6.890625 26.703125 6.890625 \nQ 35.15625 6.890625 40.078125 11.328125 \nQ 45.015625 15.765625 45.015625 23.390625 \nQ 45.015625 31 40.078125 35.4375 \nQ 35.15625 39.890625 26.703125 39.890625 \nQ 22.75 39.890625 18.8125 39.015625 \nQ 14.890625 38.140625 10.796875 36.28125 \nz\n\" id=\"DejaVuSans-53\"/>\n       </defs>\n       <use xlink:href=\"#DejaVuSans-53\"/>\n       <use x=\"63.623047\" xlink:href=\"#DejaVuSans-48\"/>\n      </g>\n     </g>\n    </g>\n    <g id=\"xtick_6\">\n     <g id=\"line2d_10\">\n      <g>\n       <use style=\"stroke:#000000;stroke-width:0.8;\" x=\"347.220953\" xlink:href=\"#m373157358d\" y=\"108.718125\"/>\n      </g>\n     </g>\n     <g id=\"text_8\">\n      <!-- 100 -->\n      <g transform=\"translate(349.980328 134.805625)rotate(-90)scale(0.1 -0.1)\">\n       <defs>\n        <path d=\"M 12.40625 8.296875 \nL 28.515625 8.296875 \nL 28.515625 63.921875 \nL 10.984375 60.40625 \nL 10.984375 69.390625 \nL 28.421875 72.90625 \nL 38.28125 72.90625 \nL 38.28125 8.296875 \nL 54.390625 8.296875 \nL 54.390625 0 \nL 12.40625 0 \nz\n\" id=\"DejaVuSans-49\"/>\n       </defs>\n       <use xlink:href=\"#DejaVuSans-49\"/>\n       <use x=\"63.623047\" xlink:href=\"#DejaVuSans-48\"/>\n       <use x=\"127.246094\" xlink:href=\"#DejaVuSans-48\"/>\n      </g>\n     </g>\n    </g>\n   </g>\n   <g id=\"matplotlib.axis_4\">\n    <g id=\"ytick_5\">\n     <g id=\"line2d_11\">\n      <g>\n       <use style=\"stroke:#000000;stroke-width:0.8;\" x=\"228.62663\" xlink:href=\"#mbf6486fbf9\" y=\"108.718125\"/>\n      </g>\n     </g>\n     <g id=\"text_9\">\n      <!-- 0 -->\n      <g transform=\"translate(215.26413 112.517344)scale(0.1 -0.1)\">\n       <use xlink:href=\"#DejaVuSans-48\"/>\n      </g>\n     </g>\n    </g>\n    <g id=\"ytick_6\">\n     <g id=\"line2d_12\">\n      <g>\n       <use style=\"stroke:#000000;stroke-width:0.8;\" x=\"228.62663\" xlink:href=\"#mbf6486fbf9\" y=\"69.534452\"/>\n      </g>\n     </g>\n     <g id=\"text_10\">\n      <!-- 500 -->\n      <g transform=\"translate(202.53913 73.33367)scale(0.1 -0.1)\">\n       <use xlink:href=\"#DejaVuSans-53\"/>\n       <use x=\"63.623047\" xlink:href=\"#DejaVuSans-48\"/>\n       <use x=\"127.246094\" xlink:href=\"#DejaVuSans-48\"/>\n      </g>\n     </g>\n    </g>\n    <g id=\"ytick_7\">\n     <g id=\"line2d_13\">\n      <g>\n       <use style=\"stroke:#000000;stroke-width:0.8;\" x=\"228.62663\" xlink:href=\"#mbf6486fbf9\" y=\"30.350778\"/>\n      </g>\n     </g>\n     <g id=\"text_11\">\n      <!-- 1000 -->\n      <g transform=\"translate(196.17663 34.149997)scale(0.1 -0.1)\">\n       <use xlink:href=\"#DejaVuSans-49\"/>\n       <use x=\"63.623047\" xlink:href=\"#DejaVuSans-48\"/>\n       <use x=\"127.246094\" xlink:href=\"#DejaVuSans-48\"/>\n       <use x=\"190.869141\" xlink:href=\"#DejaVuSans-48\"/>\n      </g>\n     </g>\n    </g>\n   </g>\n   <g id=\"patch_28\">\n    <path d=\"M 228.62663 108.718125 \nL 228.62663 22.318125 \n\" style=\"fill:none;stroke:#000000;stroke-linecap:square;stroke-linejoin:miter;stroke-width:0.8;\"/>\n   </g>\n   <g id=\"patch_29\">\n    <path d=\"M 378.8875 108.718125 \nL 378.8875 22.318125 \n\" style=\"fill:none;stroke:#000000;stroke-linecap:square;stroke-linejoin:miter;stroke-width:0.8;\"/>\n   </g>\n   <g id=\"patch_30\">\n    <path d=\"M 228.62663 108.718125 \nL 378.8875 108.718125 \n\" style=\"fill:none;stroke:#000000;stroke-linecap:square;stroke-linejoin:miter;stroke-width:0.8;\"/>\n   </g>\n   <g id=\"patch_31\">\n    <path d=\"M 228.62663 22.318125 \nL 378.8875 22.318125 \n\" style=\"fill:none;stroke:#000000;stroke-linecap:square;stroke-linejoin:miter;stroke-width:0.8;\"/>\n   </g>\n   <g id=\"text_12\">\n    <!-- intra-pandemic non-SARS-CoV-2 -->\n    <g transform=\"translate(206.916128 16.318125)scale(0.12 -0.12)\">\n     <use xlink:href=\"#DejaVuSans-105\"/>\n     <use x=\"27.783203\" xlink:href=\"#DejaVuSans-110\"/>\n     <use x=\"91.162109\" xlink:href=\"#DejaVuSans-116\"/>\n     <use x=\"130.371094\" xlink:href=\"#DejaVuSans-114\"/>\n     <use x=\"171.484375\" xlink:href=\"#DejaVuSans-97\"/>\n     <use x=\"232.763672\" xlink:href=\"#DejaVuSans-45\"/>\n     <use x=\"268.847656\" xlink:href=\"#DejaVuSans-112\"/>\n     <use x=\"332.324219\" xlink:href=\"#DejaVuSans-97\"/>\n     <use x=\"393.603516\" xlink:href=\"#DejaVuSans-110\"/>\n     <use x=\"456.982422\" xlink:href=\"#DejaVuSans-100\"/>\n     <use x=\"520.458984\" xlink:href=\"#DejaVuSans-101\"/>\n     <use x=\"581.982422\" xlink:href=\"#DejaVuSans-109\"/>\n     <use x=\"679.394531\" xlink:href=\"#DejaVuSans-105\"/>\n     <use x=\"707.177734\" xlink:href=\"#DejaVuSans-99\"/>\n     <use x=\"762.158203\" xlink:href=\"#DejaVuSans-32\"/>\n     <use x=\"793.945312\" xlink:href=\"#DejaVuSans-110\"/>\n     <use x=\"857.324219\" xlink:href=\"#DejaVuSans-111\"/>\n     <use x=\"918.505859\" xlink:href=\"#DejaVuSans-110\"/>\n     <use x=\"981.884766\" xlink:href=\"#DejaVuSans-45\"/>\n     <use x=\"1017.96875\" xlink:href=\"#DejaVuSans-83\"/>\n     <use x=\"1083.320312\" xlink:href=\"#DejaVuSans-65\"/>\n     <use x=\"1151.728516\" xlink:href=\"#DejaVuSans-82\"/>\n     <use x=\"1221.210938\" xlink:href=\"#DejaVuSans-83\"/>\n     <use x=\"1284.6875\" xlink:href=\"#DejaVuSans-45\"/>\n     <use x=\"1320.771484\" xlink:href=\"#DejaVuSans-67\"/>\n     <use x=\"1390.595703\" xlink:href=\"#DejaVuSans-111\"/>\n     <use x=\"1451.777344\" xlink:href=\"#DejaVuSans-86\"/>\n     <use x=\"1514.310547\" xlink:href=\"#DejaVuSans-45\"/>\n     <use x=\"1550.394531\" xlink:href=\"#DejaVuSans-50\"/>\n    </g>\n   </g>\n  </g>\n  <g id=\"axes_3\">\n   <g id=\"patch_32\">\n    <path d=\"M 33.2875 238.318125 \nL 183.54837 238.318125 \nL 183.54837 151.918125 \nL 33.2875 151.918125 \nz\n\" style=\"fill:#ffffff;\"/>\n   </g>\n   <g id=\"patch_33\">\n    <path clip-path=\"url(#p2a653fa859)\" d=\"M 40.11754 238.318125 \nL 48.358744 238.318125 \nL 48.358744 156.032411 \nL 40.11754 156.032411 \nz\n\" style=\"fill:#1f77b4;\"/>\n   </g>\n   <g id=\"patch_34\">\n    <path clip-path=\"url(#p2a653fa859)\" d=\"M 48.358744 238.318125 \nL 56.599949 238.318125 \nL 56.599949 215.33037 \nL 48.358744 215.33037 \nz\n\" style=\"fill:#1f77b4;\"/>\n   </g>\n   <g id=\"patch_35\">\n    <path clip-path=\"url(#p2a653fa859)\" d=\"M 56.599949 238.318125 \nL 64.841154 238.318125 \nL 64.841154 234.225608 \nL 56.599949 234.225608 \nz\n\" style=\"fill:#1f77b4;\"/>\n   </g>\n   <g id=\"patch_36\">\n    <path clip-path=\"url(#p2a653fa859)\" d=\"M 64.841154 238.318125 \nL 73.082358 238.318125 \nL 73.082358 236.750778 \nL 64.841154 236.750778 \nz\n\" style=\"fill:#1f77b4;\"/>\n   </g>\n   <g id=\"patch_37\">\n    <path clip-path=\"url(#p2a653fa859)\" d=\"M 73.082358 238.318125 \nL 81.323563 238.318125 \nL 81.323563 238.056901 \nL 73.082358 238.056901 \nz\n\" style=\"fill:#1f77b4;\"/>\n   </g>\n   <g id=\"patch_38\">\n    <path clip-path=\"url(#p2a653fa859)\" d=\"M 81.323563 238.318125 \nL 89.564768 238.318125 \nL 89.564768 238.23105 \nL 81.323563 238.23105 \nz\n\" style=\"fill:#1f77b4;\"/>\n   </g>\n   <g id=\"patch_39\">\n    <path clip-path=\"url(#p2a653fa859)\" d=\"M 89.564768 238.318125 \nL 97.805973 238.318125 \nL 97.805973 238.143975 \nL 89.564768 238.143975 \nz\n\" style=\"fill:#1f77b4;\"/>\n   </g>\n   <g id=\"patch_40\">\n    <path clip-path=\"url(#p2a653fa859)\" d=\"M 97.805973 238.318125 \nL 106.047177 238.318125 \nL 106.047177 238.318125 \nL 97.805973 238.318125 \nz\n\" style=\"fill:#1f77b4;\"/>\n   </g>\n   <g id=\"patch_41\">\n    <path clip-path=\"url(#p2a653fa859)\" d=\"M 106.047177 238.318125 \nL 114.288382 238.318125 \nL 114.288382 238.143975 \nL 106.047177 238.143975 \nz\n\" style=\"fill:#1f77b4;\"/>\n   </g>\n   <g id=\"patch_42\">\n    <path clip-path=\"url(#p2a653fa859)\" d=\"M 114.288382 238.318125 \nL 122.529587 238.318125 \nL 122.529587 238.23105 \nL 114.288382 238.23105 \nz\n\" style=\"fill:#1f77b4;\"/>\n   </g>\n   <g id=\"matplotlib.axis_5\">\n    <g id=\"xtick_7\">\n     <g id=\"line2d_14\">\n      <g>\n       <use style=\"stroke:#000000;stroke-width:0.8;\" x=\"38.988607\" xlink:href=\"#m373157358d\" y=\"238.318125\"/>\n      </g>\n     </g>\n     <g id=\"text_13\">\n      <!-- 0 -->\n      <g transform=\"translate(41.747982 251.680625)rotate(-90)scale(0.1 -0.1)\">\n       <use xlink:href=\"#DejaVuSans-48\"/>\n      </g>\n     </g>\n    </g>\n    <g id=\"xtick_8\">\n     <g id=\"line2d_15\">\n      <g>\n       <use style=\"stroke:#000000;stroke-width:0.8;\" x=\"95.435215\" xlink:href=\"#m373157358d\" y=\"238.318125\"/>\n      </g>\n     </g>\n     <g id=\"text_14\">\n      <!-- 50 -->\n      <g transform=\"translate(98.19459 258.043125)rotate(-90)scale(0.1 -0.1)\">\n       <use xlink:href=\"#DejaVuSans-53\"/>\n       <use x=\"63.623047\" xlink:href=\"#DejaVuSans-48\"/>\n      </g>\n     </g>\n    </g>\n    <g id=\"xtick_9\">\n     <g id=\"line2d_16\">\n      <g>\n       <use style=\"stroke:#000000;stroke-width:0.8;\" x=\"151.881823\" xlink:href=\"#m373157358d\" y=\"238.318125\"/>\n      </g>\n     </g>\n     <g id=\"text_15\">\n      <!-- 100 -->\n      <g transform=\"translate(154.641198 264.405625)rotate(-90)scale(0.1 -0.1)\">\n       <use xlink:href=\"#DejaVuSans-49\"/>\n       <use x=\"63.623047\" xlink:href=\"#DejaVuSans-48\"/>\n       <use x=\"127.246094\" xlink:href=\"#DejaVuSans-48\"/>\n      </g>\n     </g>\n    </g>\n   </g>\n   <g id=\"matplotlib.axis_6\">\n    <g id=\"ytick_8\">\n     <g id=\"line2d_17\">\n      <g>\n       <use style=\"stroke:#000000;stroke-width:0.8;\" x=\"33.2875\" xlink:href=\"#mbf6486fbf9\" y=\"238.318125\"/>\n      </g>\n     </g>\n     <g id=\"text_16\">\n      <!-- 0 -->\n      <g transform=\"translate(19.925 242.117344)scale(0.1 -0.1)\">\n       <use xlink:href=\"#DejaVuSans-48\"/>\n      </g>\n     </g>\n    </g>\n    <g id=\"ytick_9\">\n     <g id=\"line2d_18\">\n      <g>\n       <use style=\"stroke:#000000;stroke-width:0.8;\" x=\"33.2875\" xlink:href=\"#mbf6486fbf9\" y=\"216.549418\"/>\n      </g>\n     </g>\n     <g id=\"text_17\">\n      <!-- 250 -->\n      <g transform=\"translate(7.2 220.348636)scale(0.1 -0.1)\">\n       <use xlink:href=\"#DejaVuSans-50\"/>\n       <use x=\"63.623047\" xlink:href=\"#DejaVuSans-53\"/>\n       <use x=\"127.246094\" xlink:href=\"#DejaVuSans-48\"/>\n      </g>\n     </g>\n    </g>\n    <g id=\"ytick_10\">\n     <g id=\"line2d_19\">\n      <g>\n       <use style=\"stroke:#000000;stroke-width:0.8;\" x=\"33.2875\" xlink:href=\"#mbf6486fbf9\" y=\"194.78071\"/>\n      </g>\n     </g>\n     <g id=\"text_18\">\n      <!-- 500 -->\n      <g transform=\"translate(7.2 198.579929)scale(0.1 -0.1)\">\n       <use xlink:href=\"#DejaVuSans-53\"/>\n       <use x=\"63.623047\" xlink:href=\"#DejaVuSans-48\"/>\n       <use x=\"127.246094\" xlink:href=\"#DejaVuSans-48\"/>\n      </g>\n     </g>\n    </g>\n    <g id=\"ytick_11\">\n     <g id=\"line2d_20\">\n      <g>\n       <use style=\"stroke:#000000;stroke-width:0.8;\" x=\"33.2875\" xlink:href=\"#mbf6486fbf9\" y=\"173.012003\"/>\n      </g>\n     </g>\n     <g id=\"text_19\">\n      <!-- 750 -->\n      <g transform=\"translate(7.2 176.811221)scale(0.1 -0.1)\">\n       <defs>\n        <path d=\"M 8.203125 72.90625 \nL 55.078125 72.90625 \nL 55.078125 68.703125 \nL 28.609375 0 \nL 18.3125 0 \nL 43.21875 64.59375 \nL 8.203125 64.59375 \nz\n\" id=\"DejaVuSans-55\"/>\n       </defs>\n       <use xlink:href=\"#DejaVuSans-55\"/>\n       <use x=\"63.623047\" xlink:href=\"#DejaVuSans-53\"/>\n       <use x=\"127.246094\" xlink:href=\"#DejaVuSans-48\"/>\n      </g>\n     </g>\n    </g>\n   </g>\n   <g id=\"patch_43\">\n    <path d=\"M 33.2875 238.318125 \nL 33.2875 151.918125 \n\" style=\"fill:none;stroke:#000000;stroke-linecap:square;stroke-linejoin:miter;stroke-width:0.8;\"/>\n   </g>\n   <g id=\"patch_44\">\n    <path d=\"M 183.54837 238.318125 \nL 183.54837 151.918125 \n\" style=\"fill:none;stroke:#000000;stroke-linecap:square;stroke-linejoin:miter;stroke-width:0.8;\"/>\n   </g>\n   <g id=\"patch_45\">\n    <path d=\"M 33.2875 238.318125 \nL 183.54837 238.318125 \n\" style=\"fill:none;stroke:#000000;stroke-linecap:square;stroke-linejoin:miter;stroke-width:0.8;\"/>\n   </g>\n   <g id=\"patch_46\">\n    <path d=\"M 33.2875 151.918125 \nL 183.54837 151.918125 \n\" style=\"fill:none;stroke:#000000;stroke-linecap:square;stroke-linejoin:miter;stroke-width:0.8;\"/>\n   </g>\n   <g id=\"text_20\">\n    <!-- preceding control period -->\n    <g transform=\"translate(34.783872 145.918125)scale(0.12 -0.12)\">\n     <defs>\n      <path d=\"M 45.40625 27.984375 \nQ 45.40625 37.75 41.375 43.109375 \nQ 37.359375 48.484375 30.078125 48.484375 \nQ 22.859375 48.484375 18.828125 43.109375 \nQ 14.796875 37.75 14.796875 27.984375 \nQ 14.796875 18.265625 18.828125 12.890625 \nQ 22.859375 7.515625 30.078125 7.515625 \nQ 37.359375 7.515625 41.375 12.890625 \nQ 45.40625 18.265625 45.40625 27.984375 \nz\nM 54.390625 6.78125 \nQ 54.390625 -7.171875 48.1875 -13.984375 \nQ 42 -20.796875 29.203125 -20.796875 \nQ 24.46875 -20.796875 20.265625 -20.09375 \nQ 16.0625 -19.390625 12.109375 -17.921875 \nL 12.109375 -9.1875 \nQ 16.0625 -11.328125 19.921875 -12.34375 \nQ 23.78125 -13.375 27.78125 -13.375 \nQ 36.625 -13.375 41.015625 -8.765625 \nQ 45.40625 -4.15625 45.40625 5.171875 \nL 45.40625 9.625 \nQ 42.625 4.78125 38.28125 2.390625 \nQ 33.9375 0 27.875 0 \nQ 17.828125 0 11.671875 7.65625 \nQ 5.515625 15.328125 5.515625 27.984375 \nQ 5.515625 40.671875 11.671875 48.328125 \nQ 17.828125 56 27.875 56 \nQ 33.9375 56 38.28125 53.609375 \nQ 42.625 51.21875 45.40625 46.390625 \nL 45.40625 54.6875 \nL 54.390625 54.6875 \nz\n\" id=\"DejaVuSans-103\"/>\n      <path d=\"M 9.421875 75.984375 \nL 18.40625 75.984375 \nL 18.40625 0 \nL 9.421875 0 \nz\n\" id=\"DejaVuSans-108\"/>\n     </defs>\n     <use xlink:href=\"#DejaVuSans-112\"/>\n     <use x=\"63.476562\" xlink:href=\"#DejaVuSans-114\"/>\n     <use x=\"102.339844\" xlink:href=\"#DejaVuSans-101\"/>\n     <use x=\"163.863281\" xlink:href=\"#DejaVuSans-99\"/>\n     <use x=\"218.84375\" xlink:href=\"#DejaVuSans-101\"/>\n     <use x=\"280.367188\" xlink:href=\"#DejaVuSans-100\"/>\n     <use x=\"343.84375\" xlink:href=\"#DejaVuSans-105\"/>\n     <use x=\"371.626953\" xlink:href=\"#DejaVuSans-110\"/>\n     <use x=\"435.005859\" xlink:href=\"#DejaVuSans-103\"/>\n     <use x=\"498.482422\" xlink:href=\"#DejaVuSans-32\"/>\n     <use x=\"530.269531\" xlink:href=\"#DejaVuSans-99\"/>\n     <use x=\"585.25\" xlink:href=\"#DejaVuSans-111\"/>\n     <use x=\"646.431641\" xlink:href=\"#DejaVuSans-110\"/>\n     <use x=\"709.810547\" xlink:href=\"#DejaVuSans-116\"/>\n     <use x=\"749.019531\" xlink:href=\"#DejaVuSans-114\"/>\n     <use x=\"787.882812\" xlink:href=\"#DejaVuSans-111\"/>\n     <use x=\"849.064453\" xlink:href=\"#DejaVuSans-108\"/>\n     <use x=\"876.847656\" xlink:href=\"#DejaVuSans-32\"/>\n     <use x=\"908.634766\" xlink:href=\"#DejaVuSans-112\"/>\n     <use x=\"972.111328\" xlink:href=\"#DejaVuSans-101\"/>\n     <use x=\"1033.634766\" xlink:href=\"#DejaVuSans-114\"/>\n     <use x=\"1074.748047\" xlink:href=\"#DejaVuSans-105\"/>\n     <use x=\"1102.53125\" xlink:href=\"#DejaVuSans-111\"/>\n     <use x=\"1163.712891\" xlink:href=\"#DejaVuSans-100\"/>\n    </g>\n   </g>\n  </g>\n </g>\n <defs>\n  <clipPath id=\"p76bca5420f\">\n   <rect height=\"86.4\" width=\"150.26087\" x=\"33.2875\" y=\"22.318125\"/>\n  </clipPath>\n  <clipPath id=\"p53f7392bde\">\n   <rect height=\"86.4\" width=\"150.26087\" x=\"228.62663\" y=\"22.318125\"/>\n  </clipPath>\n  <clipPath id=\"p2a653fa859\">\n   <rect height=\"86.4\" width=\"150.26087\" x=\"33.2875\" y=\"151.918125\"/>\n  </clipPath>\n </defs>\n</svg>\n",
      "text/plain": "<Figure size 432x288 with 4 Axes>"
     },
     "metadata": {
      "needs_background": "light"
     },
     "output_type": "display_data"
    }
   ],
   "source": [
    "# Histogram comparing variables between cohorts\n",
    "\n",
    "df.hist('pp_num_authors', by='cohort', sharex=True)\n"
   ]
  },
  {
   "cell_type": "markdown",
   "metadata": {},
   "source": [
    "# Distribution data"
   ]
  },
  {
   "cell_type": "code",
   "execution_count": 75,
   "metadata": {},
   "outputs": [],
   "source": [
    "from datetime import datetime, date\n",
    "import pandas as pd\n",
    "\n",
    "# Functions for converting tweet ID to timestamp\n",
    "def find_tweet_timestamp_post_snowflake(tid):\n",
    "    offset = 1288834974657\n",
    "    tstamp = (tid >> 22) + offset\n",
    "    return tstamp\n",
    "\n",
    "\n",
    "def getTweetDateTime(tid):\n",
    "    if not tid:\n",
    "        return\n",
    "    tstamp = find_tweet_timestamp_post_snowflake(int(tid))\n",
    "    return datetime.utcfromtimestamp(tstamp / 1000)\n",
    "\n",
    "\n",
    "# today_date = datetime.strftime(datetime.today(), \"%Y-%m-%d\")\n",
    "today_date = datetime.strftime(date(2021, 1, 12), \"%Y-%m-%d\")\n",
    "data = pd.read_csv(today_date + '_flat-file_v1s.psv', sep=\"|\", quoting=csv.QUOTE_NONE, quotechar=\"\", escapechar=\"\\\\\")\n",
    "errors = pd.read_csv(\"known-errors.csv\")\n",
    "\n",
    "dateColumns = [\n",
    "    'date',\n",
    "    'crossref_pub_date',\n",
    "    'pub_date',\n",
    "    'pub_date_received',\n",
    "    'pub_date_accepted',\n",
    "    'pub_date_entrez',\n",
    "    'pub_date_pubmed',\n",
    "    'pub_date_medline',\n",
    "    'pub_date_revised',\n",
    "    'pub_date_pmc-release'\n",
    "]\n",
    "data[dateColumns] = data[dateColumns].apply(\n",
    "    lambda x: pd.to_datetime(x).dt.date)\n",
    "\n",
    "pp_errors = errors[errors.type == 'preprint']['doi'].unique()\n",
    "data = data[~data.doi.isin(pp_errors)]\n"
   ]
  },
  {
   "cell_type": "code",
   "execution_count": 79,
   "metadata": {},
   "outputs": [
    {
     "name": "stderr",
     "output_type": "stream",
     "text": [
      "/Users/joshg/opt/anaconda3/lib/python3.7/site-packages/IPython/core/interactiveshell.py:3063: DtypeWarning: Columns (22,23,24) have mixed types.Specify dtype option on import or set low_memory=False.\n",
      "  interactivity=interactivity, compiler=compiler, result=result)\n"
     ]
    }
   ],
   "source": [
    "import os\n",
    "import glob\n",
    "pp_df = pd.read_csv(os.path.join('data', 'altmetric-data', '2021-03-03_preprint_altmetric.csv'),\n",
    "                    encoding='latin_1', dtype={'External Mention ID': object})\n",
    "pub_df = pd.read_csv(os.path.join('data', 'altmetric-data', '2021-03-03_published_altmetric.csv'),\n",
    "                     encoding='latin_1', dtype={'External Mention ID': object})\n"
   ]
  },
  {
   "cell_type": "code",
   "execution_count": 80,
   "metadata": {},
   "outputs": [
    {
     "data": {
      "text/plain": "Tweet              334873\nNews story           7774\nBlog post            1732\nFacebook post         542\nPolicy document       152\nVideo                  53\nPeer review            47\nPatent                 40\nWikipedia page         40\nF1000 post              7\nQ&A post                5\nReddit post             4\nName: Mention Type, dtype: int64"
     },
     "execution_count": 80,
     "metadata": {},
     "output_type": "execute_result"
    }
   ],
   "source": [
    "# Check that distribution of all preprint mentions makes sense\n",
    "\n",
    "pp_df['Mention Type'].value_counts()\n"
   ]
  },
  {
   "cell_type": "code",
   "execution_count": 81,
   "metadata": {},
   "outputs": [
    {
     "name": "stdout",
     "output_type": "stream",
     "text": [
      "Altmetric has recorded at least one mention for 6926 articles and 7460 preprints.\n"
     ]
    }
   ],
   "source": [
    "# Check how many DOIs Altmetric has data for\n",
    "\n",
    "msg = \"Altmetric has recorded at least one mention for %s articles and %s preprints.\"\n",
    "\n",
    "print(msg % (pub_df['DOI'].nunique(), pp_df['DOI'].nunique()))\n"
   ]
  },
  {
   "cell_type": "code",
   "execution_count": 82,
   "metadata": {},
   "outputs": [],
   "source": [
    "# Convert Mention Date to datetime and extract tweet datetime from tweet ID\n",
    "for df in [pub_df, pp_df]:\n",
    "    df['Mention Date'] = pd.to_datetime(\n",
    "        df['Mention Date'],\n",
    "        errors='coerce'\n",
    "    )\n",
    "\n",
    "    df['tweet_dt'] = df.apply(\n",
    "        lambda x:\n",
    "            getTweetDateTime(x['External Mention ID']\n",
    "                             ) if x['Mention Type'] == 'Tweet' else None,\n",
    "        axis=1\n",
    "    )\n"
   ]
  },
  {
   "cell_type": "code",
   "execution_count": 83,
   "metadata": {},
   "outputs": [],
   "source": [
    "alt_pub_df = pub_df.merge(data, how = 'left', left_on = 'DOI', right_on = 'published')\n",
    "alt_pp_df = pp_df.merge(data, how = 'left', left_on = 'DOI', right_on = 'doi')\n",
    "\n",
    "alt_pub_df.drop(columns = 'DOI', inplace=True)\n",
    "alt_pp_df.drop(columns = 'DOI', inplace = True)"
   ]
  },
  {
   "cell_type": "code",
   "execution_count": 84,
   "metadata": {},
   "outputs": [],
   "source": [
    "from datetime import date, timedelta\n",
    "thirtyDaysBeforeAltmetricDataCollected = date(2021, 3, 3) + timedelta(days=-31)\n",
    "\n",
    "thirtyDay_pub_df = alt_pub_df[\n",
    "        (\n",
    "            (alt_pub_df.crossref_pub_date <= thirtyDaysBeforeAltmetricDataCollected)\n",
    "        ) & (\n",
    "            (alt_pub_df.tweet_dt <= (alt_pub_df.crossref_pub_date + timedelta(days=30))) |\n",
    "            (alt_pub_df['Mention Date'] <=\n",
    "            (alt_pub_df.crossref_pub_date + timedelta(days=30)))\n",
    "        )\n",
    "]\n",
    "thirtyDay_pp_df = alt_pp_df[\n",
    "        (\n",
    "            (alt_pp_df.date <= thirtyDaysBeforeAltmetricDataCollected)\n",
    "        ) & (\n",
    "            (alt_pp_df.tweet_dt <= (alt_pp_df.date + timedelta(days=30))) |\n",
    "            (alt_pp_df['Mention Date'] <= (alt_pp_df.date + timedelta(days=30)))\n",
    "        )\n",
    "]"
   ]
  },
  {
   "cell_type": "code",
   "execution_count": 85,
   "metadata": {},
   "outputs": [],
   "source": [
    "thirtyDay_pp_df = thirtyDay_pp_df.merge(data[data['date'] <= thirtyDaysBeforeAltmetricDataCollected][['doi', 'cohort']], on = ['doi', 'cohort'], how = 'right')\n",
    "thirtyDay_pub_df = thirtyDay_pub_df.merge(data[data['crossref_pub_date'] <= thirtyDaysBeforeAltmetricDataCollected][['published', 'cohort']], on = ['published', 'cohort'], how = 'right')\n",
    "\n",
    "thirtyDay_pp_df['altmetric_eligible'] = True\n",
    "thirtyDay_pub_df['altmetric_eligible'] = True"
   ]
  },
  {
   "cell_type": "code",
   "execution_count": 86,
   "metadata": {},
   "outputs": [],
   "source": [
    "thirtyDay_pp_df = thirtyDay_pp_df.merge(data[['doi', 'cohort']], on = ['doi', 'cohort'], how = 'right')\n",
    "thirtyDay_pub_df = thirtyDay_pub_df.merge(data[['published', 'cohort']], on = ['published', 'cohort'], how = 'right')"
   ]
  },
  {
   "cell_type": "code",
   "execution_count": 87,
   "metadata": {},
   "outputs": [
    {
     "data": {
      "text/plain": "True    585830\nName: altmetric_eligible, dtype: int64"
     },
     "execution_count": 87,
     "metadata": {},
     "output_type": "execute_result"
    }
   ],
   "source": [
    "thirtyDay_pub_df.fillna(value = {'altmetric_eligible': False}, inplace=True)\n",
    "\n",
    "thirtyDay_pub_df['altmetric_eligible'].value_counts(dropna = False)"
   ]
  },
  {
   "cell_type": "code",
   "execution_count": 88,
   "metadata": {},
   "outputs": [
    {
     "name": "stdout",
     "output_type": "stream",
     "text": [
      "There are 0 publications and 0 preprints which we have not yet observed 30 days of data for\n"
     ]
    }
   ],
   "source": [
    "na_pubs = len(thirtyDay_pub_df[~thirtyDay_pub_df.altmetric_eligible])\n",
    "na_pp = len(thirtyDay_pp_df[~thirtyDay_pp_df.altmetric_eligible])\n",
    "print('There are %s publications and %s preprints which we have not yet observed 30 days of data for' % (\n",
    "    na_pubs,\n",
    "    na_pp\n",
    "))"
   ]
  },
  {
   "cell_type": "code",
   "execution_count": 89,
   "metadata": {},
   "outputs": [
    {
     "data": {
      "text/plain": "Series([], dtype: int64)"
     },
     "execution_count": 89,
     "metadata": {},
     "output_type": "execute_result"
    }
   ],
   "source": [
    "thirtyDay_pub_df[~thirtyDay_pub_df.altmetric_eligible].groupby('cohort').size()"
   ]
  },
  {
   "cell_type": "code",
   "execution_count": 90,
   "metadata": {},
   "outputs": [],
   "source": [
    "thirtyDay_pp_df = thirtyDay_pp_df[thirtyDay_pp_df.altmetric_eligible]\n",
    "thirtyDay_pub_df = thirtyDay_pub_df[thirtyDay_pub_df.altmetric_eligible]"
   ]
  },
  {
   "cell_type": "code",
   "execution_count": 91,
   "metadata": {},
   "outputs": [
    {
     "data": {
      "text/html": "<div>\n<style scoped>\n    .dataframe tbody tr th:only-of-type {\n        vertical-align: middle;\n    }\n\n    .dataframe tbody tr th {\n        vertical-align: top;\n    }\n\n    .dataframe thead th {\n        text-align: right;\n    }\n</style>\n<table border=\"1\" class=\"dataframe\">\n  <thead>\n    <tr style=\"text-align: right;\">\n      <th></th>\n      <th>date</th>\n      <th>Mention Date</th>\n      <th>tweet_dt</th>\n    </tr>\n  </thead>\n  <tbody>\n    <tr>\n      <th>0</th>\n      <td>2019-05-12</td>\n      <td>NaT</td>\n      <td>2019-05-22 12:53:43.704</td>\n    </tr>\n    <tr>\n      <th>1</th>\n      <td>2019-05-12</td>\n      <td>NaT</td>\n      <td>2019-05-12 18:43:02.613</td>\n    </tr>\n    <tr>\n      <th>2</th>\n      <td>2019-05-12</td>\n      <td>NaT</td>\n      <td>2019-05-12 16:12:33.572</td>\n    </tr>\n    <tr>\n      <th>3</th>\n      <td>2019-05-12</td>\n      <td>NaT</td>\n      <td>2019-05-12 15:47:27.201</td>\n    </tr>\n    <tr>\n      <th>4</th>\n      <td>2019-05-12</td>\n      <td>NaT</td>\n      <td>2019-05-12 15:47:26.939</td>\n    </tr>\n    <tr>\n      <th>...</th>\n      <td>...</td>\n      <td>...</td>\n      <td>...</td>\n    </tr>\n    <tr>\n      <th>302694</th>\n      <td>2020-11-04</td>\n      <td>NaT</td>\n      <td>2020-11-05 00:22:55.970</td>\n    </tr>\n    <tr>\n      <th>302695</th>\n      <td>2020-11-04</td>\n      <td>NaT</td>\n      <td>2020-11-04 23:29:59.863</td>\n    </tr>\n    <tr>\n      <th>302696</th>\n      <td>2020-11-04</td>\n      <td>NaT</td>\n      <td>2020-11-04 23:19:03.252</td>\n    </tr>\n    <tr>\n      <th>302697</th>\n      <td>2020-11-04</td>\n      <td>NaT</td>\n      <td>2020-11-04 23:13:10.576</td>\n    </tr>\n    <tr>\n      <th>302698</th>\n      <td>2020-11-04</td>\n      <td>NaT</td>\n      <td>2020-11-04 23:10:48.352</td>\n    </tr>\n  </tbody>\n</table>\n<p>302699 rows × 3 columns</p>\n</div>",
      "text/plain": "              date Mention Date                tweet_dt\n0       2019-05-12          NaT 2019-05-22 12:53:43.704\n1       2019-05-12          NaT 2019-05-12 18:43:02.613\n2       2019-05-12          NaT 2019-05-12 16:12:33.572\n3       2019-05-12          NaT 2019-05-12 15:47:27.201\n4       2019-05-12          NaT 2019-05-12 15:47:26.939\n...            ...          ...                     ...\n302694  2020-11-04          NaT 2020-11-05 00:22:55.970\n302695  2020-11-04          NaT 2020-11-04 23:29:59.863\n302696  2020-11-04          NaT 2020-11-04 23:19:03.252\n302697  2020-11-04          NaT 2020-11-04 23:13:10.576\n302698  2020-11-04          NaT 2020-11-04 23:10:48.352\n\n[302699 rows x 3 columns]"
     },
     "execution_count": 91,
     "metadata": {},
     "output_type": "execute_result"
    }
   ],
   "source": [
    "thirtyDay_pp_df[['date', 'Mention Date', 'tweet_dt']]"
   ]
  },
  {
   "cell_type": "code",
   "execution_count": 92,
   "metadata": {},
   "outputs": [
    {
     "data": {
      "text/html": "<div>\n<style scoped>\n    .dataframe tbody tr th:only-of-type {\n        vertical-align: middle;\n    }\n\n    .dataframe tbody tr th {\n        vertical-align: top;\n    }\n\n    .dataframe thead th {\n        text-align: right;\n    }\n</style>\n<table border=\"1\" class=\"dataframe\">\n  <thead>\n    <tr style=\"text-align: right;\">\n      <th></th>\n      <th></th>\n      <th>Tweet</th>\n      <th>News story</th>\n      <th>Policy document</th>\n    </tr>\n    <tr>\n      <th>cohort</th>\n      <th></th>\n      <th></th>\n      <th></th>\n      <th></th>\n    </tr>\n  </thead>\n  <tbody>\n    <tr>\n      <th rowspan=\"3\" valign=\"top\">intra-pandemic SARS-CoV-2</th>\n      <th>0.50</th>\n      <td>19.0</td>\n      <td>0.0</td>\n      <td>0.0</td>\n    </tr>\n    <tr>\n      <th>0.25</th>\n      <td>9.0</td>\n      <td>0.0</td>\n      <td>0.0</td>\n    </tr>\n    <tr>\n      <th>0.75</th>\n      <td>70.0</td>\n      <td>1.0</td>\n      <td>0.0</td>\n    </tr>\n    <tr>\n      <th rowspan=\"3\" valign=\"top\">intra-pandemic non-SARS-CoV-2</th>\n      <th>0.50</th>\n      <td>7.0</td>\n      <td>0.0</td>\n      <td>0.0</td>\n    </tr>\n    <tr>\n      <th>0.25</th>\n      <td>3.0</td>\n      <td>0.0</td>\n      <td>0.0</td>\n    </tr>\n    <tr>\n      <th>0.75</th>\n      <td>17.0</td>\n      <td>0.0</td>\n      <td>0.0</td>\n    </tr>\n    <tr>\n      <th rowspan=\"3\" valign=\"top\">preceding control period</th>\n      <th>0.50</th>\n      <td>7.5</td>\n      <td>0.0</td>\n      <td>0.0</td>\n    </tr>\n    <tr>\n      <th>0.25</th>\n      <td>4.0</td>\n      <td>0.0</td>\n      <td>0.0</td>\n    </tr>\n    <tr>\n      <th>0.75</th>\n      <td>18.0</td>\n      <td>0.0</td>\n      <td>0.0</td>\n    </tr>\n  </tbody>\n</table>\n</div>",
      "text/plain": "                                    Tweet  News story  Policy document\ncohort                                                                \nintra-pandemic SARS-CoV-2     0.50   19.0         0.0              0.0\n                              0.25    9.0         0.0              0.0\n                              0.75   70.0         1.0              0.0\nintra-pandemic non-SARS-CoV-2 0.50    7.0         0.0              0.0\n                              0.25    3.0         0.0              0.0\n                              0.75   17.0         0.0              0.0\npreceding control period      0.50    7.5         0.0              0.0\n                              0.25    4.0         0.0              0.0\n                              0.75   18.0         0.0              0.0"
     },
     "execution_count": 92,
     "metadata": {},
     "output_type": "execute_result"
    }
   ],
   "source": [
    "thirtyDay_pp_df.groupby(['doi', 'Mention Type']).size().unstack('Mention Type').fillna(0).merge(thirtyDay_pp_df[['doi', 'cohort']].drop_duplicates(), on='doi', how='right').fillna(0)[['doi', 'cohort', 'Tweet', 'News story', 'Policy document']].groupby('cohort').quantile([0.5, 0.25, 0.75])"
   ]
  },
  {
   "cell_type": "code",
   "execution_count": 93,
   "metadata": {},
   "outputs": [
    {
     "data": {
      "text/html": "<div>\n<style scoped>\n    .dataframe tbody tr th:only-of-type {\n        vertical-align: middle;\n    }\n\n    .dataframe tbody tr th {\n        vertical-align: top;\n    }\n\n    .dataframe thead th {\n        text-align: right;\n    }\n</style>\n<table border=\"1\" class=\"dataframe\">\n  <thead>\n    <tr style=\"text-align: right;\">\n      <th></th>\n      <th></th>\n      <th>Tweet</th>\n      <th>News story</th>\n      <th>Policy document</th>\n    </tr>\n    <tr>\n      <th>cohort</th>\n      <th></th>\n      <th></th>\n      <th></th>\n      <th></th>\n    </tr>\n  </thead>\n  <tbody>\n    <tr>\n      <th rowspan=\"3\" valign=\"top\">intra-pandemic SARS-CoV-2</th>\n      <th>0.50</th>\n      <td>10.0</td>\n      <td>0.0</td>\n      <td>0.0</td>\n    </tr>\n    <tr>\n      <th>0.25</th>\n      <td>2.0</td>\n      <td>0.0</td>\n      <td>0.0</td>\n    </tr>\n    <tr>\n      <th>0.75</th>\n      <td>84.0</td>\n      <td>7.0</td>\n      <td>0.0</td>\n    </tr>\n    <tr>\n      <th rowspan=\"3\" valign=\"top\">intra-pandemic non-SARS-CoV-2</th>\n      <th>0.50</th>\n      <td>7.0</td>\n      <td>0.0</td>\n      <td>0.0</td>\n    </tr>\n    <tr>\n      <th>0.25</th>\n      <td>2.0</td>\n      <td>0.0</td>\n      <td>0.0</td>\n    </tr>\n    <tr>\n      <th>0.75</th>\n      <td>20.0</td>\n      <td>0.0</td>\n      <td>0.0</td>\n    </tr>\n    <tr>\n      <th rowspan=\"3\" valign=\"top\">preceding control period</th>\n      <th>0.50</th>\n      <td>6.0</td>\n      <td>0.0</td>\n      <td>0.0</td>\n    </tr>\n    <tr>\n      <th>0.25</th>\n      <td>1.0</td>\n      <td>0.0</td>\n      <td>0.0</td>\n    </tr>\n    <tr>\n      <th>0.75</th>\n      <td>21.0</td>\n      <td>0.0</td>\n      <td>0.0</td>\n    </tr>\n  </tbody>\n</table>\n</div>",
      "text/plain": "                                    Tweet  News story  Policy document\ncohort                                                                \nintra-pandemic SARS-CoV-2     0.50   10.0         0.0              0.0\n                              0.25    2.0         0.0              0.0\n                              0.75   84.0         7.0              0.0\nintra-pandemic non-SARS-CoV-2 0.50    7.0         0.0              0.0\n                              0.25    2.0         0.0              0.0\n                              0.75   20.0         0.0              0.0\npreceding control period      0.50    6.0         0.0              0.0\n                              0.25    1.0         0.0              0.0\n                              0.75   21.0         0.0              0.0"
     },
     "execution_count": 93,
     "metadata": {},
     "output_type": "execute_result"
    }
   ],
   "source": [
    "thirtyDay_pub_df.groupby(['published', 'Mention Type']).size().unstack('Mention Type').fillna(0).merge(thirtyDay_pub_df[['published', 'cohort']].drop_duplicates(), on='published', how='right').fillna(0)[['published', 'cohort', 'Tweet', 'News story', 'Policy document']].groupby('cohort').quantile([0.5, 0.25, 0.75])"
   ]
  },
  {
   "cell_type": "code",
   "execution_count": 94,
   "metadata": {},
   "outputs": [
    {
     "name": "stdout",
     "output_type": "stream",
     "text": [
      "7546\n",
      "7546\n"
     ]
    }
   ],
   "source": [
    "print(thirtyDay_pp_df['doi'].nunique())\n",
    "print(thirtyDay_pub_df['published'].nunique())"
   ]
  },
  {
   "cell_type": "code",
   "execution_count": 95,
   "metadata": {},
   "outputs": [
    {
     "data": {
      "text/plain": "cohort\nintra-pandemic SARS-CoV-2        392\nintra-pandemic non-SARS-CoV-2     14\npreceding control period          21\ndtype: int64"
     },
     "metadata": {},
     "output_type": "display_data"
    },
    {
     "data": {
      "text/plain": "cohort\nintra-pandemic SARS-CoV-2         785\nintra-pandemic non-SARS-CoV-2    3589\npreceding control period         2745\ndtype: int64"
     },
     "metadata": {},
     "output_type": "display_data"
    },
    {
     "data": {
      "text/plain": "cohort\nintra-pandemic SARS-CoV-2    37\ndtype: int64"
     },
     "metadata": {},
     "output_type": "display_data"
    },
    {
     "data": {
      "text/plain": "cohort\nintra-pandemic SARS-CoV-2        1140\nintra-pandemic non-SARS-CoV-2    3603\npreceding control period         2766\ndtype: int64"
     },
     "metadata": {},
     "output_type": "display_data"
    }
   ],
   "source": [
    "test_pp_df = thirtyDay_pp_df.groupby(['doi', 'Mention Type']).size().unstack('Mention Type').fillna(0).merge(thirtyDay_pp_df[['doi', 'cohort']].drop_duplicates(), on='doi', how='right').fillna(0)\n",
    "\n",
    "display(test_pp_df[test_pp_df['News story'] != 0].groupby('cohort').size())\n",
    "display(test_pp_df[test_pp_df['News story'] == 0].groupby('cohort').size())\n",
    "\n",
    "display(test_pp_df[test_pp_df['Policy document']\n",
    "                   != 0].groupby('cohort').size())\n",
    "\n",
    "display(test_pp_df[test_pp_df['Policy document']\n",
    "                   == 0].groupby('cohort').size())\n"
   ]
  },
  {
   "cell_type": "code",
   "execution_count": 96,
   "metadata": {},
   "outputs": [
    {
     "data": {
      "text/plain": "cohort\nintra-pandemic SARS-CoV-2        436\nintra-pandemic non-SARS-CoV-2    491\npreceding control period         350\ndtype: int64"
     },
     "metadata": {},
     "output_type": "display_data"
    },
    {
     "data": {
      "text/plain": "cohort\nintra-pandemic SARS-CoV-2         741\nintra-pandemic non-SARS-CoV-2    3112\npreceding control period         2416\ndtype: int64"
     },
     "metadata": {},
     "output_type": "display_data"
    },
    {
     "data": {
      "text/plain": "cohort\nintra-pandemic SARS-CoV-2        55\nintra-pandemic non-SARS-CoV-2     1\npreceding control period          1\ndtype: int64"
     },
     "metadata": {},
     "output_type": "display_data"
    },
    {
     "data": {
      "text/plain": "cohort\nintra-pandemic SARS-CoV-2        1122\nintra-pandemic non-SARS-CoV-2    3602\npreceding control period         2765\ndtype: int64"
     },
     "metadata": {},
     "output_type": "display_data"
    }
   ],
   "source": [
    "test_pub_df = thirtyDay_pub_df.groupby(['published', 'Mention Type']).size().unstack('Mention Type').fillna(0).merge(thirtyDay_pub_df[['published', 'cohort']].drop_duplicates(), on='published', how='right').fillna(0)\n",
    "\n",
    "display(test_pub_df[test_pub_df['News story'] != 0].groupby('cohort').size())\n",
    "display(test_pub_df[test_pub_df['News story'] == 0].groupby('cohort').size())\n",
    "\n",
    "display(test_pub_df[test_pub_df['Policy document'] != 0].groupby('cohort').size())\n",
    "display(test_pub_df[test_pub_df['Policy document'] == 0].groupby('cohort').size())\n"
   ]
  },
  {
   "cell_type": "code",
   "execution_count": 119,
   "metadata": {},
   "outputs": [],
   "source": [
    "import csv\n",
    "# df = data\n",
    "\n",
    "df['doi_link'] = 'https://doi.org/' + df['doi']\n",
    "df['published_link'] = 'https://doi.org/' + df['published']\n",
    "\n",
    "SARS_mask = df.cohort == 'intra-pandemic SARS-CoV-2'\n",
    "\n",
    "SARS_df = df[SARS_mask]\n",
    "\n",
    "export_cols = [\n",
    "    'abstract_diff_cosine_tf',\n",
    "    'doi_link', \n",
    "    'published_link', \n",
    "    'pub_journal_name', \n",
    "    'scraped_abstract', \n",
    "    'pub_abstract'\n",
    "]\n",
    "\n",
    "# 25th percentile example\n",
    "\n",
    "small_change_df = SARS_df[\n",
    "    (SARS_df.abstract_diff_cosine_tf >= SARS_df['abstract_diff_cosine_tf'].quantile(0.2).item()) &\n",
    "    (SARS_df.abstract_diff_cosine_tf <=\n",
    "     SARS_df['abstract_diff_cosine_tf'].quantile(0.3).item())\n",
    "].sample()[export_cols]\n",
    "\n",
    "# 50th percentile example\n",
    "\n",
    "med_change_df = SARS_df[\n",
    "    (SARS_df.abstract_diff_cosine_tf >= SARS_df['abstract_diff_cosine_tf'].quantile(0.45).item()) &\n",
    "    (SARS_df.abstract_diff_cosine_tf <=\n",
    "     SARS_df['abstract_diff_cosine_tf'].quantile(0.55).item())\n",
    "].sample()[export_cols]\n",
    "\n",
    "# 75th percentile example\n",
    "\n",
    "large_change_df = SARS_df[\n",
    "    (SARS_df.abstract_diff_cosine_tf >= SARS_df['abstract_diff_cosine_tf'].quantile(0.7).item()) &\n",
    "    (SARS_df.abstract_diff_cosine_tf <=\n",
    "     SARS_df['abstract_diff_cosine_tf'].quantile(0.8).item())\n",
    "].sample()[export_cols]\n",
    "\n",
    "\n",
    "large_change_df.to_csv('large_sample.csv', sep='|', quoting=csv.QUOTE_NONE, quotechar=\"\", escapechar=\"\\\\\")\n",
    "small_change_df.to_csv('sample_small.csv', sep = '|', quoting=csv.QUOTE_NONE, quotechar=\"\", escapechar=\"\\\\\")\n",
    "med_change_df.to_csv('med_change.csv', sep = '|', quoting=csv.QUOTE_NONE, quotechar=\"\", escapechar=\"\\\\\")\n"
   ]
  },
  {
   "cell_type": "code",
   "execution_count": 131,
   "metadata": {},
   "outputs": [
    {
     "data": {
      "text/html": "<div>\n<style scoped>\n    .dataframe tbody tr th:only-of-type {\n        vertical-align: middle;\n    }\n\n    .dataframe tbody tr th {\n        vertical-align: top;\n    }\n\n    .dataframe thead th {\n        text-align: right;\n    }\n</style>\n<table border=\"1\" class=\"dataframe\">\n  <thead>\n    <tr style=\"text-align: right;\">\n      <th></th>\n      <th>doi</th>\n      <th>published</th>\n    </tr>\n  </thead>\n  <tbody>\n    <tr>\n      <th>4</th>\n      <td>10.1101/636142</td>\n      <td>10.1016/j.nbd.2020.104737</td>\n    </tr>\n    <tr>\n      <th>10</th>\n      <td>10.1101/635029</td>\n      <td>10.1093/bioinformatics/btz921</td>\n    </tr>\n    <tr>\n      <th>15</th>\n      <td>10.1101/637132</td>\n      <td>10.1371/journal.pone.0223313</td>\n    </tr>\n    <tr>\n      <th>17</th>\n      <td>10.1101/636639</td>\n      <td>10.1093/bioinformatics/btz704</td>\n    </tr>\n    <tr>\n      <th>20</th>\n      <td>10.1101/635854</td>\n      <td>10.1128/jvi.01282-19</td>\n    </tr>\n    <tr>\n      <th>...</th>\n      <td>...</td>\n      <td>...</td>\n    </tr>\n    <tr>\n      <th>7538</th>\n      <td>10.1101/2020.10.06.20171579</td>\n      <td>10.7759/cureus.10918</td>\n    </tr>\n    <tr>\n      <th>7542</th>\n      <td>10.1101/2020.10.25.20219030</td>\n      <td>10.1002/eji.202049058</td>\n    </tr>\n    <tr>\n      <th>7543</th>\n      <td>10.1101/2020.10.26.20218636</td>\n      <td>10.1126/scitranslmed.abe4282</td>\n    </tr>\n    <tr>\n      <th>7544</th>\n      <td>10.1101/2020.10.25.20217141</td>\n      <td>10.3390/ijerph17249346</td>\n    </tr>\n    <tr>\n      <th>7545</th>\n      <td>10.1101/2020.10.28.20221697</td>\n      <td>10.1371/journal.pone.0243268</td>\n    </tr>\n  </tbody>\n</table>\n<p>2872 rows × 2 columns</p>\n</div>",
      "text/plain": "                              doi                      published\n4                  10.1101/636142      10.1016/j.nbd.2020.104737\n10                 10.1101/635029  10.1093/bioinformatics/btz921\n15                 10.1101/637132   10.1371/journal.pone.0223313\n17                 10.1101/636639  10.1093/bioinformatics/btz704\n20                 10.1101/635854           10.1128/jvi.01282-19\n...                           ...                            ...\n7538  10.1101/2020.10.06.20171579           10.7759/cureus.10918\n7542  10.1101/2020.10.25.20219030          10.1002/eji.202049058\n7543  10.1101/2020.10.26.20218636   10.1126/scitranslmed.abe4282\n7544  10.1101/2020.10.25.20217141         10.3390/ijerph17249346\n7545  10.1101/2020.10.28.20221697   10.1371/journal.pone.0243268\n\n[2872 rows x 2 columns]"
     },
     "execution_count": 131,
     "metadata": {},
     "output_type": "execute_result"
    }
   ],
   "source": [
    "df[df.scraped_abstract.str.contains('[A-Za-z]\\.[A-Za-z]')][['doi', 'published']]"
   ]
  },
  {
   "cell_type": "code",
   "execution_count": null,
   "metadata": {},
   "outputs": [],
   "source": [
    "import matplotlib.pyplot as plt\n",
    "\n",
    "df.groupby('cohort').pub_journal_name.value_counts().plot(\n",
    "    kind='barh', figsize=(30, 150))\n",
    "\n",
    "plt.savefig('myfile.pdf', figsize=(30, 150))\n"
   ]
  },
  {
   "cell_type": "code",
   "execution_count": 24,
   "metadata": {},
   "outputs": [],
   "source": [
    "from scipy.stats import median_test\n",
    "\n",
    "func = median_test\n",
    "\n",
    "metric = 'abstract_diff_cosine_tf'\n",
    "\n",
    "significance = 0.05\n",
    "\n",
    "comparison_dict = []\n",
    "\n",
    "for journal in df['pub_journal_name'].unique():\n",
    "\n",
    "    mask = df.pub_journal_name == journal\n",
    "    data_frame = df[~mask].copy()\n",
    "\n",
    "    ext_control = data_frame[data_frame.cohort ==\n",
    "                             'preceding control period'][metric].tolist()\n",
    "    int_control = data_frame[data_frame.cohort ==\n",
    "                             'intra-pandemic non-SARS-CoV-2'][metric].tolist()\n",
    "    SARS = data_frame[data_frame.cohort ==\n",
    "                      'intra-pandemic SARS-CoV-2'][metric].tolist()\n",
    "\n",
    "    int_v_ext_p = func(int_control, ext_control)[1]\n",
    "    int_v_SARS_p = func(int_control, SARS)[1]\n",
    "    ext_v_SARS_p = func(ext_control, SARS)[1]\n",
    "\n",
    "    SARS_count = len(df[(df.cohort == 'intra-pandemic SARS-CoV-2')\n",
    "                        & (df.pub_journal_name == journal)])\n",
    "    int_count = len(df[(df.cohort == 'intra-pandemic non-SARS-CoV-2')\n",
    "                       & (df.pub_journal_name == journal)])\n",
    "    ext_count = len(df[(df.cohort == 'preceding control period')\n",
    "                       & (df.pub_journal_name == journal)])\n",
    "\n",
    "    comparison_dict.append({\n",
    "        'comparison': 'controls',\n",
    "        'p value': int_v_ext_p,\n",
    "        'metric': metric,\n",
    "        'journal': journal,\n",
    "        'SARS count': SARS_count,\n",
    "        'int count': int_count,\n",
    "        'ext count': ext_count\n",
    "    })\n",
    "\n",
    "    comparison_dict.append({\n",
    "        'comparison': 'internal vs. SARS',\n",
    "        'p value': int_v_SARS_p,\n",
    "        'metric': metric,\n",
    "        'journal': journal,\n",
    "        'SARS count': SARS_count,\n",
    "        'int count': int_count,\n",
    "        'ext count': ext_count\n",
    "    })\n",
    "\n",
    "    comparison_dict.append({\n",
    "        'comparison': 'external vs. SARS',\n",
    "        'p value': ext_v_SARS_p,\n",
    "        'metric': metric,\n",
    "        'journal': journal,\n",
    "        'SARS count': SARS_count,\n",
    "        'int count': int_count,\n",
    "        'ext count': ext_count\n",
    "    })\n",
    "\n",
    "    # Critical values\n",
    "    if int_v_ext_p <= significance:\n",
    "        print(\"\\nControls now significantly differ for %s if %s removed. Value: %s\" % (\n",
    "            metric, journal, int_v_ext_p))\n",
    "    if int_v_SARS_p >= significance:\n",
    "        print(\"\\nInternal control vs. SARS for %s not significant if %s removed. Value: %s\" % (\n",
    "            metric, journal, int_v_SARS_p))\n",
    "    if ext_v_SARS_p >= significance:\n",
    "        print(\"\\nExternal control vs. SARS for %s not significant if %s removed. Value: %s\" % (\n",
    "            metric, journal, ext_v_SARS_p))\n"
   ]
  },
  {
   "cell_type": "code",
   "execution_count": 27,
   "metadata": {},
   "outputs": [
    {
     "data": {
      "text/html": "<div>\n<style scoped>\n    .dataframe tbody tr th:only-of-type {\n        vertical-align: middle;\n    }\n\n    .dataframe tbody tr th {\n        vertical-align: top;\n    }\n\n    .dataframe thead th {\n        text-align: right;\n    }\n</style>\n<table border=\"1\" class=\"dataframe\">\n  <thead>\n    <tr style=\"text-align: right;\">\n      <th></th>\n      <th>comparison</th>\n      <th>p value</th>\n      <th>metric</th>\n      <th>journal</th>\n      <th>SARS count</th>\n      <th>int count</th>\n      <th>ext count</th>\n    </tr>\n  </thead>\n  <tbody>\n    <tr>\n      <th>9</th>\n      <td>controls</td>\n      <td>1.000000e+00</td>\n      <td>abstract_diff_cosine_tf</td>\n      <td>frontiers in neurology</td>\n      <td>1</td>\n      <td>6</td>\n      <td>3</td>\n    </tr>\n    <tr>\n      <th>158</th>\n      <td>external vs. SARS</td>\n      <td>1.615197e-42</td>\n      <td>abstract_diff_cosine_tf</td>\n      <td>science (new york, n.y.)</td>\n      <td>46</td>\n      <td>19</td>\n      <td>16</td>\n    </tr>\n    <tr>\n      <th>157</th>\n      <td>internal vs. SARS</td>\n      <td>3.398141e-44</td>\n      <td>abstract_diff_cosine_tf</td>\n      <td>science (new york, n.y.)</td>\n      <td>46</td>\n      <td>19</td>\n      <td>16</td>\n    </tr>\n  </tbody>\n</table>\n</div>",
      "text/plain": "            comparison       p value                   metric  \\\n9             controls  1.000000e+00  abstract_diff_cosine_tf   \n158  external vs. SARS  1.615197e-42  abstract_diff_cosine_tf   \n157  internal vs. SARS  3.398141e-44  abstract_diff_cosine_tf   \n\n                      journal  SARS count  int count  ext count  \n9      frontiers in neurology           1          6          3  \n158  science (new york, n.y.)          46         19         16  \n157  science (new york, n.y.)          46         19         16  "
     },
     "execution_count": 27,
     "metadata": {},
     "output_type": "execute_result"
    }
   ],
   "source": [
    "import pandas as pd\n",
    "\n",
    "comparison_df = pd.DataFrame(comparison_dict)\n",
    "\n",
    "comparison_df.loc[comparison_df.groupby('comparison')['p value'].idxmax()]\n"
   ]
  }
 ],
 "metadata": {
  "kernelspec": {
   "display_name": "Python 3",
   "language": "python",
   "name": "python3"
  },
  "language_info": {
   "codemirror_mode": {
    "name": "ipython",
    "version": 3
   },
   "file_extension": ".py",
   "mimetype": "text/x-python",
   "name": "python",
   "nbconvert_exporter": "python",
   "pygments_lexer": "ipython3",
   "version": "3.7.6"
  }
 },
 "nbformat": 4,
 "nbformat_minor": 2
}