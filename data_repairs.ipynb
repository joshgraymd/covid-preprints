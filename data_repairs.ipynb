{
 "cells": [
  {
   "cell_type": "markdown",
   "metadata": {},
   "source": [
    "# Temporary fixes"
   ]
  },
  {
   "cell_type": "markdown",
   "metadata": {},
   "source": [
    "## January 4th, 2021: Fixed missing pp_num_authors data"
   ]
  },
  {
   "cell_type": "code",
   "execution_count": 1,
   "metadata": {},
   "outputs": [
    {
     "data": {
      "text/plain": "NaN      3271\n5.0       500\n4.0       460\n6.0       433\n3.0       425\n         ... \n63.0        1\n64.0        1\n52.0        1\n45.0        1\n105.0       1\nName: pp_num_authors, Length: 64, dtype: int64"
     },
     "execution_count": 1,
     "metadata": {},
     "output_type": "execute_result"
    }
   ],
   "source": [
    "import pandas as pd\n",
    "\n",
    "# Read in Jan 2nd data with significant missingness in pp_num_authors data\n",
    "df = pd.read_csv('2021-01-09_flat-file_v1s.psv', sep = '|')\n",
    "df['pp_num_authors'].value_counts(dropna = False)"
   ]
  },
  {
   "cell_type": "code",
   "execution_count": 2,
   "metadata": {},
   "outputs": [
    {
     "data": {
      "text/plain": "7547"
     },
     "execution_count": 2,
     "metadata": {},
     "output_type": "execute_result"
    }
   ],
   "source": [
    "df.shape[0]"
   ]
  },
  {
   "cell_type": "code",
   "execution_count": 3,
   "metadata": {},
   "outputs": [
    {
     "name": "stderr",
     "output_type": "stream",
     "text": [
      "100%|██████████| 7547/7547 [19:44<00:00,  6.37it/s]\n"
     ]
    }
   ],
   "source": [
    "import json\n",
    "import requests\n",
    "from tqdm import tqdm\n",
    "\n",
    "MAX_RETRIES = 5\n",
    "\n",
    "df['pp_num_authors_revised'] = None\n",
    "\n",
    "for i, row in tqdm(df.iterrows(), total = df.shape[0]):\n",
    "    retries = 0\n",
    "    while retries < MAX_RETRIES:\n",
    "        try:\n",
    "            response = [x for x in json.loads(requests.get('https://api.biorxiv.org/details/%s/%s/na/json' % (df['server'][i], df['doi'][i])).text)['collection'] if x[\"version\"] == \"1\"][0]\n",
    "            if 'authors' in response:\n",
    "                if len(response['authors']) > 0 and response['authors'][-1] == ';':\n",
    "                    df['pp_num_authors_revised'][i] = len(response['authors'][:-1].split(';'))\n",
    "                else:\n",
    "                    df['pp_num_authors_revised'][i] = len(response['authors'].split(';'))\n",
    "            break\n",
    "        except:\n",
    "            retries += 1\n",
    "        print('Error with DOI %s, retrying...' % df['doi'][i])"
   ]
  },
  {
   "cell_type": "code",
   "execution_count": 4,
   "metadata": {},
   "outputs": [],
   "source": [
    "df.drop(columns = ['pp_num_authors'], inplace = True)\n",
    "df.rename(columns = {\"pp_num_authors_revised\": \"pp_num_authors\"}, inplace=True)"
   ]
  },
  {
   "cell_type": "code",
   "execution_count": 5,
   "metadata": {},
   "outputs": [
    {
     "data": {
      "text/plain": "5     877\n4     864\n6     805\n3     745\n7     658\n2     563\n8     531\n9     448\n10    357\n11    252\n12    239\n13    166\n14    146\n15    134\n16     96\n1      95\n17     77\n18     77\n19     55\n20     39\n22     39\n23     30\n21     27\n24     26\n25     23\n26     21\n27     20\n30     14\n28     12\n29     10\n31     10\n43      9\n37      8\n34      8\n38      7\n36      6\n33      6\n32      6\n46      6\n35      5\n41      5\n44      5\n45      5\n42      4\n39      3\n40      3\n48      3\n47      1\n49      1\nName: pp_num_authors, dtype: int64"
     },
     "execution_count": 5,
     "metadata": {},
     "output_type": "execute_result"
    }
   ],
   "source": [
    "# Fixed!\n",
    "df['pp_num_authors'].value_counts(dropna = False)"
   ]
  },
  {
   "cell_type": "code",
   "execution_count": 6,
   "metadata": {},
   "outputs": [],
   "source": [
    "from datetime import datetime\n",
    "\n",
    "# Save out data to new flat file\n",
    "todays_date = datetime.strftime(datetime.today(), \"%Y-%m-%d\")\n",
    "df.to_csv(todays_date + '_flat-file_v1s.psv', sep='|', index=False)"
   ]
  }
 ],
 "metadata": {
  "kernelspec": {
   "display_name": "Python 3.9.1 64-bit",
   "metadata": {
    "interpreter": {
     "hash": "aee8b7b246df8f9039afb4144a1f6fd8d2ca17a180786b69acc140d282b71a49"
    }
   },
   "name": "python3"
  },
  "language_info": {
   "codemirror_mode": {
    "name": "ipython",
    "version": 3
   },
   "file_extension": ".py",
   "mimetype": "text/x-python",
   "name": "python",
   "nbconvert_exporter": "python",
   "pygments_lexer": "ipython3",
   "version": "3.9.1-final"
  },
  "orig_nbformat": 2
 },
 "nbformat": 4,
 "nbformat_minor": 2
}